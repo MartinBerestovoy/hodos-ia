{
 "cells": [
  {
   "cell_type": "markdown",
   "metadata": {},
   "source": [
    "https://drive.google.com/file/d/0B7XkCwpI5KDYNlNUTTlSS21pQmM/edit?resourcekey=0-wjGZdNAUop6WykTtMip30g"
   ]
  },
  {
   "cell_type": "code",
   "execution_count": 1,
   "metadata": {},
   "outputs": [],
   "source": [
    "# !pip install pandas --user\n",
    "# !pip install gensim --user\n",
    "# !pip install scikit-learn --user\n",
    "# pip3 install -U scikit-learn scipy matplotlib\n",
    "# !pip install scikit-learn --user\n",
    "# !pip install gensim==3.4.0\n",
    "# !pip install smart_open==1.9.0\n",
    "# !pip install matplotlib"
   ]
  },
  {
   "cell_type": "code",
   "execution_count": 2,
   "metadata": {},
   "outputs": [],
   "source": [
    "import pandas as pd\n",
    "import numpy as np\n",
    "import matplotlib.pyplot as plt\n",
    "\n",
    "from sklearn.preprocessing import LabelEncoder\n",
    "from sklearn.preprocessing import StandardScaler\n",
    "from sklearn.preprocessing import PolynomialFeatures\n",
    "\n",
    "import warnings\n",
    "warnings.filterwarnings(action='ignore', category=UserWarning, module='gensim')\n",
    "\n",
    "import smart_open\n",
    "from gensim.models.keyedvectors import KeyedVectors\n",
    "\n",
    "import logging\n",
    "logging.basicConfig(format='%(asctime)s : %(levelname)s : %(message)s', level=logging.INFO)\n",
    "\n",
    "from sklearn.metrics import classification_report"
   ]
  },
  {
   "cell_type": "code",
   "execution_count": 3,
   "metadata": {},
   "outputs": [],
   "source": [
    "# path = 'GoogleNews-vectors-negative300.bin.gz'\n",
    "# model = KeyedVectors.load_word2vec_format(path, binary=True)"
   ]
  },
  {
   "cell_type": "code",
   "execution_count": 4,
   "metadata": {},
   "outputs": [
    {
     "name": "stdout",
     "output_type": "stream",
     "text": [
      "     O_score  C_score  E_score  A_score  N_score  Numerical Aptitude  \\\n",
      "0       5.45     8.67     3.45     5.34     4.23                9.23   \n",
      "1       8.78     5.67     4.56     6.45     4.23                5.12   \n",
      "2       6.12     6.78     9.34     7.56     5.01                6.23   \n",
      "3       9.12     8.78     4.23     5.67     4.56                7.89   \n",
      "4       6.45     7.56     5.67     9.12     4.23                5.34   \n",
      "..       ...      ...      ...      ...      ...                 ...   \n",
      "100     7.67     8.23     6.01     9.12     5.45                4.45   \n",
      "101     2.67     8.78     7.67     8.45     6.45                4.45   \n",
      "102     6.78     8.67     4.23     5.23     4.67                8.23   \n",
      "103     7.34     7.67     4.23     5.23     4.67                9.34   \n",
      "104     7.34     7.67     4.23     5.45     4.89                9.12   \n",
      "\n",
      "     Spatial Aptitude  Perceptual Aptitude  Abstract Reasoning  \\\n",
      "0                4.56                 6.78                7.89   \n",
      "1                8.45                 7.89                6.34   \n",
      "2                4.23                 6.45                6.67   \n",
      "3                5.34                 6.45                9.34   \n",
      "4                4.01                 6.23                5.78   \n",
      "..                ...                  ...                 ...   \n",
      "100              2.89                 3.12                4.67   \n",
      "101              2.89                 3.12                4.67   \n",
      "102              7.67                 6.01                7.45   \n",
      "103              8.45                 6.78                8.12   \n",
      "104              8.67                 6.45                8.23   \n",
      "\n",
      "     Verbal Reasoning                                 Career  \n",
      "0                6.12                             Accountant  \n",
      "1                6.01                       Graphic Designer  \n",
      "2                8.45                            Salesperson  \n",
      "3                7.67                     Research Scientist  \n",
      "4                8.67                                Teacher  \n",
      "..                ...                                    ...  \n",
      "100              8.34                Foreign Service Officer  \n",
      "101              5.45  Customs and Border Protection Officer  \n",
      "102              5.45                         Civil Engineer  \n",
      "103              5.67                      Robotics Engineer  \n",
      "104              5.67            Electronics Design Engineer  \n",
      "\n",
      "[105 rows x 11 columns]\n"
     ]
    }
   ],
   "source": [
    "# Cargar el dataset\n",
    "df = pd.read_csv('career_prediction_dataset.csv')\n",
    "print(df)"
   ]
  },
  {
   "cell_type": "code",
   "execution_count": 5,
   "metadata": {},
   "outputs": [],
   "source": [
    "categories = {\n",
    "    \"Healthcare and Medicine\": [\n",
    "        \"Nurse\", \"Physician\", \"Pharmacist\", \"Physical Therapist\", \n",
    "        \"Dental Hygienist\", \"Pediatric Nurse\", \"Chiropractor\", \n",
    "        \"Radiologic Technologist\", \"Speech Therapist\", \"Occupational Therapist\", \n",
    "        \"Rehabilitation Counselor\", \"Pediatrician\", \"Genetic Counselor\", \n",
    "        \"Forensic Psychologist\", \"Public Health Analyst\"\n",
    "    ],\n",
    "    \"Engineering and Technology\": [\n",
    "        \"Software Developer\", \"IT Support Specialist\", \"Biomedical Engineer\", \n",
    "        \"Data Analyst\", \"Industrial Engineer\", \"Mechanical Engineer\", \n",
    "        \"Environmental Engineer\", \"Electrical Engineer\", \"Aerospace Engineer\", \n",
    "        \"Mechanical Designer\", \"Robotics Engineer\", \"Civil Engineer\", \n",
    "        \"Electronics Design Engineer\", \"Web Developer\", \"Quality Control Inspector\", \n",
    "        \"Video Game Tester\", \"Game Developer\", \"IT Project Manager\", \"Database Analyst\", \"Software Quality Assurance Tester\", \"Database Administrator\"\n",
    "    ],\n",
    "    \"Science and Research\": [\n",
    "        \"Research Scientist\", \"Biologist\", \"Astronomer\", \"Environmental Scientist\", \n",
    "        \"Biotechnologist\", \"Zoologist\", \"Forensic Scientist\", \"Geologist\", \n",
    "        \"Wildlife Biologist\", \"Marine Biologist\", \"Biomedical Researcher\"\n",
    "    ],\n",
    "    \"Business and Finance\": [\n",
    "        \"Accountant\", \"Financial Analyst\", \"Financial Planner\", \"Financial Auditor\", \n",
    "        \"Financial Advisor\", \"Investment Banker\", \"Tax Accountant\", \"Insurance Underwriter\", \"Product Manager\"\n",
    "    ],\n",
    "    \"Marketing and Sales\": [\n",
    "        \"Salesperson\", \"Marketing Manager\", \"Marketing Coordinator\", \"Event Planner\", \n",
    "        \"Real Estate Agent\", \"Market Research Analyst\", \"Marketing Copywriter\", \n",
    "        \"Social Media Manager\", \"Advertising Executive\", \"Public Relations Specialist\", \n",
    "        \"Market Researcher\", \"Event Photographer\", \"Chef\", \"Marketing Analyst\"\n",
    "    ],\n",
    "    \"Human Resources and Administration\": [\n",
    "        \"Human Resources Manager\", \"HR Recruiter\", \"Administrative Officer\", \n",
    "        \"IT Project Manager\"\n",
    "    ],\n",
    "    \"Design and Creative Arts\": [\n",
    "        \"Graphic Designer\", \"Architect\", \"Artist\", \"Fashion Designer\", \n",
    "        \"Musician\", \"Interior Designer\", \"Film Director\", \"Fashion Stylist\", \"Technical Writer\"\n",
    "    ],\n",
    "    \"Education and Counseling\": [\n",
    "        \"Teacher\", \"Psychologist\", \"Elementary School Teacher\", \"Social Worker\", \n",
    "        \"Marriage Counselor\", \"Speech Pathologist\", \"Sports Coach\", \n",
    "        \"Rehabilitation Counselor\", \"Career Counselor\"\n",
    "    ],\n",
    "    \"Law and Public Safety\": [\n",
    "        \"Lawyer\", \"Police Detective\", \"Police Officer\", \"Human Rights Lawyer\", \n",
    "        \"Customs and Border Protection Officer\", \"Diplomat\", \"Foreign Service Officer\", \n",
    "        \"Tax Collector\", \"Air Traffic Controller\", \"Airline Pilot\", \"Journalist\"\n",
    "    ],\n",
    "    \"Urban Planning and Environment\": [\n",
    "        \"Urban Planner\", \"Construction Engineer\", \"Environmental Scientist\", \n",
    "        \"Environmental Engineer\", \"Forestry Technician\", \"Wildlife Conservationist\"\n",
    "    ]\n",
    "}\n",
    "\n",
    "\n",
    "inverse_categories = {v: k for k, values in categories.items() for v in values}\n",
    "\n",
    "df['Field'] = df['Career'].apply(lambda x: inverse_categories[x] if x in inverse_categories else 'Other Specialized Fields')"
   ]
  },
  {
   "cell_type": "code",
   "execution_count": 6,
   "metadata": {},
   "outputs": [],
   "source": [
    "# Codificación de la columna 'Career'\n",
    "df['Career_encoded'] = LabelEncoder().fit_transform(df['Career'])\n",
    "df['Field_encoded'] = LabelEncoder().fit_transform(df['Field'])"
   ]
  },
  {
   "cell_type": "code",
   "execution_count": 7,
   "metadata": {},
   "outputs": [
    {
     "data": {
      "text/html": [
       "<div>\n",
       "<style scoped>\n",
       "    .dataframe tbody tr th:only-of-type {\n",
       "        vertical-align: middle;\n",
       "    }\n",
       "\n",
       "    .dataframe tbody tr th {\n",
       "        vertical-align: top;\n",
       "    }\n",
       "\n",
       "    .dataframe thead th {\n",
       "        text-align: right;\n",
       "    }\n",
       "</style>\n",
       "<table border=\"1\" class=\"dataframe\">\n",
       "  <thead>\n",
       "    <tr style=\"text-align: right;\">\n",
       "      <th></th>\n",
       "      <th>O_score</th>\n",
       "      <th>C_score</th>\n",
       "      <th>E_score</th>\n",
       "      <th>A_score</th>\n",
       "      <th>N_score</th>\n",
       "      <th>Numerical Aptitude</th>\n",
       "      <th>Spatial Aptitude</th>\n",
       "      <th>Perceptual Aptitude</th>\n",
       "      <th>Abstract Reasoning</th>\n",
       "      <th>Verbal Reasoning</th>\n",
       "      <th>Career_encoded</th>\n",
       "      <th>Field_encoded</th>\n",
       "    </tr>\n",
       "  </thead>\n",
       "  <tbody>\n",
       "    <tr>\n",
       "      <th>O_score</th>\n",
       "      <td>1.000000</td>\n",
       "      <td>-0.358852</td>\n",
       "      <td>-0.114397</td>\n",
       "      <td>-0.275814</td>\n",
       "      <td>0.030516</td>\n",
       "      <td>-0.116925</td>\n",
       "      <td>-0.001691</td>\n",
       "      <td>0.343582</td>\n",
       "      <td>0.390962</td>\n",
       "      <td>-0.038268</td>\n",
       "      <td>0.020424</td>\n",
       "      <td>0.074575</td>\n",
       "    </tr>\n",
       "    <tr>\n",
       "      <th>C_score</th>\n",
       "      <td>-0.358852</td>\n",
       "      <td>1.000000</td>\n",
       "      <td>-0.495835</td>\n",
       "      <td>-0.075626</td>\n",
       "      <td>-0.173184</td>\n",
       "      <td>0.500742</td>\n",
       "      <td>0.064901</td>\n",
       "      <td>-0.546017</td>\n",
       "      <td>0.040986</td>\n",
       "      <td>0.389997</td>\n",
       "      <td>0.097749</td>\n",
       "      <td>0.070847</td>\n",
       "    </tr>\n",
       "    <tr>\n",
       "      <th>E_score</th>\n",
       "      <td>-0.114397</td>\n",
       "      <td>-0.495835</td>\n",
       "      <td>1.000000</td>\n",
       "      <td>0.409316</td>\n",
       "      <td>0.303237</td>\n",
       "      <td>-0.632251</td>\n",
       "      <td>-0.376134</td>\n",
       "      <td>0.000672</td>\n",
       "      <td>-0.379992</td>\n",
       "      <td>-0.045150</td>\n",
       "      <td>0.098452</td>\n",
       "      <td>0.001625</td>\n",
       "    </tr>\n",
       "    <tr>\n",
       "      <th>A_score</th>\n",
       "      <td>-0.275814</td>\n",
       "      <td>-0.075626</td>\n",
       "      <td>0.409316</td>\n",
       "      <td>1.000000</td>\n",
       "      <td>0.522372</td>\n",
       "      <td>-0.641189</td>\n",
       "      <td>-0.589259</td>\n",
       "      <td>-0.426802</td>\n",
       "      <td>-0.689108</td>\n",
       "      <td>0.495370</td>\n",
       "      <td>0.186776</td>\n",
       "      <td>-0.136060</td>\n",
       "    </tr>\n",
       "    <tr>\n",
       "      <th>N_score</th>\n",
       "      <td>0.030516</td>\n",
       "      <td>-0.173184</td>\n",
       "      <td>0.303237</td>\n",
       "      <td>0.522372</td>\n",
       "      <td>1.000000</td>\n",
       "      <td>-0.638699</td>\n",
       "      <td>-0.544380</td>\n",
       "      <td>-0.269804</td>\n",
       "      <td>-0.376473</td>\n",
       "      <td>0.373317</td>\n",
       "      <td>0.358405</td>\n",
       "      <td>-0.102504</td>\n",
       "    </tr>\n",
       "    <tr>\n",
       "      <th>Numerical Aptitude</th>\n",
       "      <td>-0.116925</td>\n",
       "      <td>0.500742</td>\n",
       "      <td>-0.632251</td>\n",
       "      <td>-0.641189</td>\n",
       "      <td>-0.638699</td>\n",
       "      <td>1.000000</td>\n",
       "      <td>0.546800</td>\n",
       "      <td>0.070082</td>\n",
       "      <td>0.427188</td>\n",
       "      <td>-0.271634</td>\n",
       "      <td>-0.226657</td>\n",
       "      <td>-0.115820</td>\n",
       "    </tr>\n",
       "    <tr>\n",
       "      <th>Spatial Aptitude</th>\n",
       "      <td>-0.001691</td>\n",
       "      <td>0.064901</td>\n",
       "      <td>-0.376134</td>\n",
       "      <td>-0.589259</td>\n",
       "      <td>-0.544380</td>\n",
       "      <td>0.546800</td>\n",
       "      <td>1.000000</td>\n",
       "      <td>0.456488</td>\n",
       "      <td>0.601379</td>\n",
       "      <td>-0.432660</td>\n",
       "      <td>-0.218636</td>\n",
       "      <td>0.124705</td>\n",
       "    </tr>\n",
       "    <tr>\n",
       "      <th>Perceptual Aptitude</th>\n",
       "      <td>0.343582</td>\n",
       "      <td>-0.546017</td>\n",
       "      <td>0.000672</td>\n",
       "      <td>-0.426802</td>\n",
       "      <td>-0.269804</td>\n",
       "      <td>0.070082</td>\n",
       "      <td>0.456488</td>\n",
       "      <td>1.000000</td>\n",
       "      <td>0.573375</td>\n",
       "      <td>-0.602674</td>\n",
       "      <td>-0.241609</td>\n",
       "      <td>0.044923</td>\n",
       "    </tr>\n",
       "    <tr>\n",
       "      <th>Abstract Reasoning</th>\n",
       "      <td>0.390962</td>\n",
       "      <td>0.040986</td>\n",
       "      <td>-0.379992</td>\n",
       "      <td>-0.689108</td>\n",
       "      <td>-0.376473</td>\n",
       "      <td>0.427188</td>\n",
       "      <td>0.601379</td>\n",
       "      <td>0.573375</td>\n",
       "      <td>1.000000</td>\n",
       "      <td>-0.314730</td>\n",
       "      <td>-0.129928</td>\n",
       "      <td>0.178736</td>\n",
       "    </tr>\n",
       "    <tr>\n",
       "      <th>Verbal Reasoning</th>\n",
       "      <td>-0.038268</td>\n",
       "      <td>0.389997</td>\n",
       "      <td>-0.045150</td>\n",
       "      <td>0.495370</td>\n",
       "      <td>0.373317</td>\n",
       "      <td>-0.271634</td>\n",
       "      <td>-0.432660</td>\n",
       "      <td>-0.602674</td>\n",
       "      <td>-0.314730</td>\n",
       "      <td>1.000000</td>\n",
       "      <td>0.369859</td>\n",
       "      <td>0.124975</td>\n",
       "    </tr>\n",
       "    <tr>\n",
       "      <th>Career_encoded</th>\n",
       "      <td>0.020424</td>\n",
       "      <td>0.097749</td>\n",
       "      <td>0.098452</td>\n",
       "      <td>0.186776</td>\n",
       "      <td>0.358405</td>\n",
       "      <td>-0.226657</td>\n",
       "      <td>-0.218636</td>\n",
       "      <td>-0.241609</td>\n",
       "      <td>-0.129928</td>\n",
       "      <td>0.369859</td>\n",
       "      <td>1.000000</td>\n",
       "      <td>-0.029189</td>\n",
       "    </tr>\n",
       "    <tr>\n",
       "      <th>Field_encoded</th>\n",
       "      <td>0.074575</td>\n",
       "      <td>0.070847</td>\n",
       "      <td>0.001625</td>\n",
       "      <td>-0.136060</td>\n",
       "      <td>-0.102504</td>\n",
       "      <td>-0.115820</td>\n",
       "      <td>0.124705</td>\n",
       "      <td>0.044923</td>\n",
       "      <td>0.178736</td>\n",
       "      <td>0.124975</td>\n",
       "      <td>-0.029189</td>\n",
       "      <td>1.000000</td>\n",
       "    </tr>\n",
       "  </tbody>\n",
       "</table>\n",
       "</div>"
      ],
      "text/plain": [
       "                      O_score   C_score   E_score   A_score   N_score  \\\n",
       "O_score              1.000000 -0.358852 -0.114397 -0.275814  0.030516   \n",
       "C_score             -0.358852  1.000000 -0.495835 -0.075626 -0.173184   \n",
       "E_score             -0.114397 -0.495835  1.000000  0.409316  0.303237   \n",
       "A_score             -0.275814 -0.075626  0.409316  1.000000  0.522372   \n",
       "N_score              0.030516 -0.173184  0.303237  0.522372  1.000000   \n",
       "Numerical Aptitude  -0.116925  0.500742 -0.632251 -0.641189 -0.638699   \n",
       "Spatial Aptitude    -0.001691  0.064901 -0.376134 -0.589259 -0.544380   \n",
       "Perceptual Aptitude  0.343582 -0.546017  0.000672 -0.426802 -0.269804   \n",
       "Abstract Reasoning   0.390962  0.040986 -0.379992 -0.689108 -0.376473   \n",
       "Verbal Reasoning    -0.038268  0.389997 -0.045150  0.495370  0.373317   \n",
       "Career_encoded       0.020424  0.097749  0.098452  0.186776  0.358405   \n",
       "Field_encoded        0.074575  0.070847  0.001625 -0.136060 -0.102504   \n",
       "\n",
       "                     Numerical Aptitude  Spatial Aptitude  \\\n",
       "O_score                       -0.116925         -0.001691   \n",
       "C_score                        0.500742          0.064901   \n",
       "E_score                       -0.632251         -0.376134   \n",
       "A_score                       -0.641189         -0.589259   \n",
       "N_score                       -0.638699         -0.544380   \n",
       "Numerical Aptitude             1.000000          0.546800   \n",
       "Spatial Aptitude               0.546800          1.000000   \n",
       "Perceptual Aptitude            0.070082          0.456488   \n",
       "Abstract Reasoning             0.427188          0.601379   \n",
       "Verbal Reasoning              -0.271634         -0.432660   \n",
       "Career_encoded                -0.226657         -0.218636   \n",
       "Field_encoded                 -0.115820          0.124705   \n",
       "\n",
       "                     Perceptual Aptitude  Abstract Reasoning  \\\n",
       "O_score                         0.343582            0.390962   \n",
       "C_score                        -0.546017            0.040986   \n",
       "E_score                         0.000672           -0.379992   \n",
       "A_score                        -0.426802           -0.689108   \n",
       "N_score                        -0.269804           -0.376473   \n",
       "Numerical Aptitude              0.070082            0.427188   \n",
       "Spatial Aptitude                0.456488            0.601379   \n",
       "Perceptual Aptitude             1.000000            0.573375   \n",
       "Abstract Reasoning              0.573375            1.000000   \n",
       "Verbal Reasoning               -0.602674           -0.314730   \n",
       "Career_encoded                 -0.241609           -0.129928   \n",
       "Field_encoded                   0.044923            0.178736   \n",
       "\n",
       "                     Verbal Reasoning  Career_encoded  Field_encoded  \n",
       "O_score                     -0.038268        0.020424       0.074575  \n",
       "C_score                      0.389997        0.097749       0.070847  \n",
       "E_score                     -0.045150        0.098452       0.001625  \n",
       "A_score                      0.495370        0.186776      -0.136060  \n",
       "N_score                      0.373317        0.358405      -0.102504  \n",
       "Numerical Aptitude          -0.271634       -0.226657      -0.115820  \n",
       "Spatial Aptitude            -0.432660       -0.218636       0.124705  \n",
       "Perceptual Aptitude         -0.602674       -0.241609       0.044923  \n",
       "Abstract Reasoning          -0.314730       -0.129928       0.178736  \n",
       "Verbal Reasoning             1.000000        0.369859       0.124975  \n",
       "Career_encoded               0.369859        1.000000      -0.029189  \n",
       "Field_encoded                0.124975       -0.029189       1.000000  "
      ]
     },
     "execution_count": 7,
     "metadata": {},
     "output_type": "execute_result"
    }
   ],
   "source": [
    "field_counts = df['Field'].value_counts()\n",
    "sub_df = df[df['Field'].isin(field_counts[field_counts >= 7].index)]\n",
    "sub_df.corr()"
   ]
  },
  {
   "cell_type": "code",
   "execution_count": 8,
   "metadata": {},
   "outputs": [],
   "source": [
    "# X = df.drop(['Career', 'Field', 'Career_encoded', 'Field_encoded'], axis=1)\n",
    "# Y = df['Field_encoded']\n",
    "\n",
    "# train_X = X[:int(0.8*len(X))]\n",
    "# train_Y = Y[:int(0.8*len(Y))]\n",
    "# test_X = X[int(0.8*len(X)):]\n",
    "# test_Y = Y[int(0.8*len(Y)):]"
   ]
  },
  {
   "cell_type": "code",
   "execution_count": 60,
   "metadata": {},
   "outputs": [
    {
     "data": {
      "text/plain": [
       "(105, 5)"
      ]
     },
     "execution_count": 60,
     "metadata": {},
     "output_type": "execute_result"
    }
   ],
   "source": [
    "\n",
    "# X = df.drop(['Career', 'Field', 'Career_encoded', 'Field_encoded'], axis=1)\n",
    "X = df[[\"O_score\",\"C_score\",\"E_score\",\"A_score\",\"N_score\"]]\n",
    "Y = df['Field_encoded']\n",
    "\n",
    "X.shape"
   ]
  },
  {
   "cell_type": "code",
   "execution_count": 61,
   "metadata": {},
   "outputs": [
    {
     "data": {
      "text/plain": [
       "(63, 21)"
      ]
     },
     "execution_count": 61,
     "metadata": {},
     "output_type": "execute_result"
    }
   ],
   "source": [
    "from sklearn.model_selection import train_test_split\n",
    "\n",
    "\n",
    "poly = PolynomialFeatures(2)\n",
    "X = poly.fit_transform(X)\n",
    "\n",
    "# Supongamos que X y Y son tus datos y etiquetas\n",
    "# Primero dividimos en entrenamiento y prueba (80% entrenamiento, 20% prueba)\n",
    "X_train, X_test, Y_train, Y_test = train_test_split(X, Y, test_size=0.2, random_state=42)\n",
    "\n",
    "# Ahora dividimos el conjunto de entrenamiento en entrenamiento y validación (80% entrenamiento, 20% validación)\n",
    "X_train, X_val, Y_train, Y_val = train_test_split(X_train, Y_train, test_size=0.25, random_state=42)  # 0.25 * 0.8 = 0.2\n",
    "\n",
    "X_train.shape"
   ]
  },
  {
   "cell_type": "code",
   "execution_count": 10,
   "metadata": {},
   "outputs": [
    {
     "name": "stdout",
     "output_type": "stream",
     "text": [
      "              precision    recall  f1-score   support\n",
      "\n",
      "           0       0.00      0.00      0.00         5\n",
      "           1       1.00      1.00      1.00         1\n",
      "           2       1.00      0.67      0.80         3\n",
      "           3       0.29      0.67      0.40         3\n",
      "           4       0.00      0.00      0.00         0\n",
      "           5       0.00      0.00      0.00         2\n",
      "           6       0.00      0.00      0.00         2\n",
      "           7       0.33      1.00      0.50         1\n",
      "           8       0.33      0.33      0.33         3\n",
      "           9       0.00      0.00      0.00         1\n",
      "\n",
      "    accuracy                           0.33        21\n",
      "   macro avg       0.30      0.37      0.30        21\n",
      "weighted avg       0.29      0.33      0.29        21\n",
      "\n"
     ]
    },
    {
     "name": "stderr",
     "output_type": "stream",
     "text": [
      "C:\\Users\\47391960\\AppData\\Roaming\\Python\\Python36\\site-packages\\sklearn\\metrics\\_classification.py:1248: UndefinedMetricWarning: Precision and F-score are ill-defined and being set to 0.0 in labels with no predicted samples. Use `zero_division` parameter to control this behavior.\n",
      "  _warn_prf(average, modifier, msg_start, len(result))\n",
      "C:\\Users\\47391960\\AppData\\Roaming\\Python\\Python36\\site-packages\\sklearn\\metrics\\_classification.py:1248: UndefinedMetricWarning: Recall and F-score are ill-defined and being set to 0.0 in labels with no true samples. Use `zero_division` parameter to control this behavior.\n",
      "  _warn_prf(average, modifier, msg_start, len(result))\n",
      "C:\\Users\\47391960\\AppData\\Roaming\\Python\\Python36\\site-packages\\sklearn\\metrics\\_classification.py:1248: UndefinedMetricWarning: Precision and F-score are ill-defined and being set to 0.0 in labels with no predicted samples. Use `zero_division` parameter to control this behavior.\n",
      "  _warn_prf(average, modifier, msg_start, len(result))\n",
      "C:\\Users\\47391960\\AppData\\Roaming\\Python\\Python36\\site-packages\\sklearn\\metrics\\_classification.py:1248: UndefinedMetricWarning: Recall and F-score are ill-defined and being set to 0.0 in labels with no true samples. Use `zero_division` parameter to control this behavior.\n",
      "  _warn_prf(average, modifier, msg_start, len(result))\n",
      "C:\\Users\\47391960\\AppData\\Roaming\\Python\\Python36\\site-packages\\sklearn\\metrics\\_classification.py:1248: UndefinedMetricWarning: Precision and F-score are ill-defined and being set to 0.0 in labels with no predicted samples. Use `zero_division` parameter to control this behavior.\n",
      "  _warn_prf(average, modifier, msg_start, len(result))\n",
      "C:\\Users\\47391960\\AppData\\Roaming\\Python\\Python36\\site-packages\\sklearn\\metrics\\_classification.py:1248: UndefinedMetricWarning: Recall and F-score are ill-defined and being set to 0.0 in labels with no true samples. Use `zero_division` parameter to control this behavior.\n",
      "  _warn_prf(average, modifier, msg_start, len(result))\n"
     ]
    }
   ],
   "source": [
    "from sklearn.ensemble import RandomForestClassifier\n",
    "from sklearn.datasets import make_classification\n",
    "\n",
    "r_f_model = RandomForestClassifier()\n",
    "r_f_model.fit(X_train, Y_train)\n",
    "Y_pred = r_f_model.predict(X_test)\n",
    "\n",
    "print(classification_report(Y_test, Y_pred))"
   ]
  },
  {
   "cell_type": "code",
   "execution_count": 11,
   "metadata": {},
   "outputs": [
    {
     "name": "stderr",
     "output_type": "stream",
     "text": [
      "C:\\Users\\47391960\\AppData\\Roaming\\Python\\Python36\\site-packages\\sklearn\\model_selection\\_split.py:668: UserWarning: The least populated class in y has only 1 members, which is less than n_splits=5.\n",
      "  % (min_groups, self.n_splits)), UserWarning)\n"
     ]
    },
    {
     "name": "stdout",
     "output_type": "stream",
     "text": [
      "Fitting 5 folds for each of 100 candidates, totalling 500 fits\n",
      "Best parameters: {'n_estimators': 500, 'min_samples_split': 2, 'min_samples_leaf': 1, 'max_features': 'auto', 'max_depth': 20, 'bootstrap': True}\n",
      "Accuracy: 0.3333333333333333\n"
     ]
    }
   ],
   "source": [
    "from sklearn.ensemble import RandomForestClassifier\n",
    "from sklearn.model_selection import RandomizedSearchCV\n",
    "from sklearn.metrics import accuracy_score\n",
    "import numpy as np\n",
    "\n",
    "# Define the parameter grid\n",
    "param_grid = {\n",
    "    'n_estimators': [10, 50, 100, 200, 500],\n",
    "    'max_depth': [None, 10, 20, 30, 40, 50],\n",
    "    'min_samples_split': [2, 5, 10],\n",
    "    'min_samples_leaf': [1, 2, 4],\n",
    "    'max_features': ['auto', 'sqrt', 'log2'],\n",
    "    'bootstrap': [True, False]\n",
    "}\n",
    "\n",
    "# Initialize RandomizedSearchCV\n",
    "random_search = RandomizedSearchCV(\n",
    "    estimator=r_f_model,\n",
    "    param_distributions=param_grid,\n",
    "    n_iter=100,  # Number of parameter settings sampled\n",
    "    cv=5,  # Number of folds in cross-validation\n",
    "    verbose=2,  # Controls the verbosity\n",
    "    random_state=42,  # For reproducibility\n",
    "    n_jobs=-1  # Number of jobs to run in parallel\n",
    ")\n",
    "\n",
    "# Fit RandomizedSearchCV to your data\n",
    "# Replace X_train and y_train with your training data\n",
    "random_search.fit(X_train, Y_train)\n",
    "\n",
    "# Get the best model\n",
    "best_model = random_search.best_estimator_\n",
    "\n",
    "# Predict on test data\n",
    "# Replace X_test with your test data\n",
    "y_pred = best_model.predict(X_test)\n",
    "\n",
    "# Evaluate the model\n",
    "accuracy = accuracy_score(Y_test, Y_pred)\n",
    "print(f'Best parameters: {random_search.best_params_}')\n",
    "print(f'Accuracy: {accuracy}')\n"
   ]
  },
  {
   "cell_type": "code",
   "execution_count": 12,
   "metadata": {},
   "outputs": [
    {
     "data": {
      "text/plain": [
       "['model.pkl']"
      ]
     },
     "execution_count": 12,
     "metadata": {},
     "output_type": "execute_result"
    }
   ],
   "source": [
    "# how to save my sklearn model?\n",
    "import joblib\n",
    "joblib.dump(r_f_model, 'model.pkl')"
   ]
  },
  {
   "cell_type": "code",
   "execution_count": 13,
   "metadata": {},
   "outputs": [
    {
     "data": {
      "image/png": "[encoded data removed]",
      "text/plain": [
       "<Figure size 720x432 with 1 Axes>"
      ]
     },
     "metadata": {
      "needs_background": "light"
     },
     "output_type": "display_data"
    }
   ],
   "source": [
    "importances = r_f_model.feature_importances_\n",
    "\n",
    "# feature_names = [X.columns[i] for i in range(X.shape[1])]\n",
    "feature_names = [str(i) for i in range(X.shape[1])]\n",
    "\n",
    "forest_importances = pd.Series(importances, index=feature_names)\n",
    "std = np.std([tree.feature_importances_ for tree in r_f_model.estimators_], axis=0)\n",
    "fig, ax = plt.subplots(1,1, figsize=(10, 6))\n",
    "forest_importances.plot.bar(ax=ax)\n",
    "ax.set_title(\"Feature importances using MDI\")\n",
    "ax.set_ylabel(\"Mean decrease in impurity\")\n",
    "fig.tight_layout()"
   ]
  },
  {
   "cell_type": "code",
   "execution_count": 14,
   "metadata": {},
   "outputs": [
    {
     "name": "stdout",
     "output_type": "stream",
     "text": [
      "Defaulting to user installation because normal site-packages is not writeable\n",
      "Requirement already satisfied: xgboost in c:\\users\\47391960\\appdata\\roaming\\python\\python36\\site-packages (1.5.2)\n",
      "Requirement already satisfied: scipy in c:\\users\\47391960\\appdata\\roaming\\python\\python36\\site-packages (from xgboost) (1.5.4)\n",
      "Requirement already satisfied: numpy in c:\\program files\\python36\\lib\\site-packages (from xgboost) (1.19.5)\n"
     ]
    }
   ],
   "source": [
    "!pip install xgboost"
   ]
  },
  {
   "cell_type": "code",
   "execution_count": 15,
   "metadata": {},
   "outputs": [
    {
     "name": "stdout",
     "output_type": "stream",
     "text": [
      "[10:57:44] WARNING: C:/Users/Administrator/workspace/xgboost-win64_release_1.5.1/src/learner.cc:1115: Starting in XGBoost 1.3.0, the default evaluation metric used with the objective 'multi:softprob' was changed from 'merror' to 'mlogloss'. Explicitly set eval_metric if you'd like to restore the old behavior.\n",
      "Accuracy: 0.3333333333333333\n"
     ]
    },
    {
     "name": "stderr",
     "output_type": "stream",
     "text": [
      "C:\\Users\\47391960\\AppData\\Roaming\\Python\\Python36\\site-packages\\xgboost\\sklearn.py:1224: UserWarning: The use of label encoder in XGBClassifier is deprecated and will be removed in a future release. To remove this warning, do the following: 1) Pass option use_label_encoder=False when constructing XGBClassifier object; and 2) Encode your labels (y) as integers starting with 0, i.e. 0, 1, 2, ..., [num_class - 1].\n",
      "  warnings.warn(label_encoder_deprecation_msg, UserWarning)\n"
     ]
    }
   ],
   "source": [
    "import xgboost as xgb\n",
    "\n",
    "x_g_model = xgb.XGBClassifier()\n",
    "x_g_model.fit(X_train, Y_train)\n",
    "Y_pred = x_g_model.predict(X_test)\n",
    "accuracy = accuracy_score(Y_test, Y_pred)\n",
    "print(f'Accuracy: {accuracy}')"
   ]
  },
  {
   "cell_type": "code",
   "execution_count": 16,
   "metadata": {},
   "outputs": [
    {
     "name": "stderr",
     "output_type": "stream",
     "text": [
      "C:\\Users\\47391960\\AppData\\Roaming\\Python\\Python36\\site-packages\\sklearn\\model_selection\\_split.py:668: UserWarning: The least populated class in y has only 1 members, which is less than n_splits=5.\n",
      "  % (min_groups, self.n_splits)), UserWarning)\n"
     ]
    },
    {
     "name": "stdout",
     "output_type": "stream",
     "text": [
      "Fitting 5 folds for each of 100 candidates, totalling 500 fits\n"
     ]
    },
    {
     "name": "stderr",
     "output_type": "stream",
     "text": [
      "C:\\Users\\47391960\\AppData\\Roaming\\Python\\Python36\\site-packages\\sklearn\\model_selection\\_search.py:925: UserWarning: One or more of the test scores are non-finite: [nan nan nan nan nan nan nan nan nan nan nan nan nan nan nan nan nan nan\n",
      " nan nan nan nan nan nan nan nan nan nan nan nan nan nan nan nan nan nan\n",
      " nan nan nan nan nan nan nan nan nan nan nan nan nan nan nan nan nan nan\n",
      " nan nan nan nan nan nan nan nan nan nan nan nan nan nan nan nan nan nan\n",
      " nan nan nan nan nan nan nan nan nan nan nan nan nan nan nan nan nan nan\n",
      " nan nan nan nan nan nan nan nan nan nan]\n",
      "  category=UserWarning\n"
     ]
    },
    {
     "name": "stdout",
     "output_type": "stream",
     "text": [
      "Best parameters: {'subsample': 0.9, 'reg_lambda': 3, 'reg_alpha': 0.01, 'n_estimators': 500, 'min_child_weight': 1, 'max_depth': 5, 'learning_rate': 0.3, 'gamma': 0.3, 'colsample_bytree': 0.6}\n",
      "Accuracy: 0.3333333333333333\n"
     ]
    }
   ],
   "source": [
    "from xgboost import XGBClassifier\n",
    "from sklearn.model_selection import RandomizedSearchCV\n",
    "from sklearn.metrics import accuracy_score\n",
    "import numpy as np\n",
    "\n",
    "# Define the parameter grid for XGBoost\n",
    "param_grid = {\n",
    "    'n_estimators': [100, 200, 300, 400, 500],\n",
    "    'learning_rate': [0.01, 0.1, 0.2, 0.3],\n",
    "    'max_depth': [3, 5, 7, 9, 12],\n",
    "    'min_child_weight': [1, 3, 5, 7],\n",
    "    'gamma': [0, 0.1, 0.2, 0.3, 0.4],\n",
    "    'subsample': [0.6, 0.7, 0.8, 0.9, 1.0],\n",
    "    'colsample_bytree': [0.6, 0.7, 0.8, 0.9, 1.0],\n",
    "    'reg_alpha': [0, 0.01, 0.1, 1],\n",
    "    'reg_lambda': [1, 1.5, 2, 3]\n",
    "}\n",
    "\n",
    "# Initialize the XGBClassifier\n",
    "xgb_model = XGBClassifier(use_label_encoder=False, eval_metric='logloss')\n",
    "\n",
    "# Initialize RandomizedSearchCV\n",
    "random_search = RandomizedSearchCV(\n",
    "    estimator=xgb_model,\n",
    "    param_distributions=param_grid,\n",
    "    n_iter=100,  # Number of parameter settings sampled\n",
    "    cv=5,  # Number of folds in cross-validation\n",
    "    verbose=2,  # Controls the verbosity\n",
    "    random_state=42,  # For reproducibility\n",
    "    n_jobs=-1  # Number of jobs to run in parallel\n",
    ")\n",
    "\n",
    "# Fit RandomizedSearchCV to your data\n",
    "# Replace X_train and y_train with your training data\n",
    "random_search.fit(X_train, Y_train)\n",
    "\n",
    "# Get the best model\n",
    "best_model = random_search.best_estimator_\n",
    "\n",
    "# Predict on test data\n",
    "# Replace X_test with your test data\n",
    "Y_pred = best_model.predict(X_test)\n",
    "\n",
    "# Evaluate the model\n",
    "accuracy = accuracy_score(Y_test, Y_pred)\n",
    "print(f'Best parameters: {random_search.best_params_}')\n",
    "print(f'Accuracy: {accuracy}')"
   ]
  },
  {
   "cell_type": "code",
   "execution_count": 17,
   "metadata": {},
   "outputs": [
    {
     "name": "stdout",
     "output_type": "stream",
     "text": [
      "Defaulting to user installation because normal site-packages is not writeable\n",
      "Collecting tensorflow\n",
      "  Downloading tensorflow-2.6.2-cp36-cp36m-win_amd64.whl (423.3 MB)\n",
      "Collecting h5py~=3.1.0\n",
      "  Downloading h5py-3.1.0-cp36-cp36m-win_amd64.whl (2.7 MB)\n",
      "Collecting absl-py~=0.10\n",
      "  Downloading absl_py-0.15.0-py3-none-any.whl (132 kB)\n",
      "Collecting six~=1.15.0\n",
      "  Downloading six-1.15.0-py2.py3-none-any.whl (10 kB)\n",
      "Collecting google-pasta~=0.2\n",
      "  Downloading google_pasta-0.2.0-py3-none-any.whl (57 kB)\n",
      "Collecting typing-extensions~=3.7.4\n",
      "  Downloading typing_extensions-3.7.4.3-py3-none-any.whl (22 kB)\n",
      "Collecting wrapt~=1.12.1\n",
      "  Downloading wrapt-1.12.1.tar.gz (27 kB)\n",
      "  Preparing metadata (setup.py): started\n",
      "  Preparing metadata (setup.py): finished with status 'done'\n",
      "Collecting gast==0.4.0\n",
      "  Downloading gast-0.4.0-py3-none-any.whl (9.8 kB)\n",
      "Requirement already satisfied: numpy~=1.19.2 in c:\\program files\\python36\\lib\\site-packages (from tensorflow) (1.19.5)\n",
      "Collecting clang~=5.0\n",
      "  Downloading clang-5.0.tar.gz (30 kB)\n",
      "  Preparing metadata (setup.py): started\n",
      "  Preparing metadata (setup.py): finished with status 'done'\n",
      "Collecting opt-einsum~=3.3.0\n",
      "  Downloading opt_einsum-3.3.0-py3-none-any.whl (65 kB)\n",
      "Collecting keras<2.7,>=2.6.0\n",
      "  Downloading keras-2.6.0-py2.py3-none-any.whl (1.3 MB)\n",
      "Collecting grpcio<2.0,>=1.37.0\n",
      "  Downloading grpcio-1.48.2-cp36-cp36m-win_amd64.whl (3.6 MB)\n",
      "Collecting wheel~=0.35\n",
      "  Downloading wheel-0.37.1-py2.py3-none-any.whl (35 kB)\n",
      "Collecting keras-preprocessing~=1.1.2\n",
      "  Downloading Keras_Preprocessing-1.1.2-py2.py3-none-any.whl (42 kB)\n",
      "Collecting termcolor~=1.1.0\n",
      "  Downloading termcolor-1.1.0.tar.gz (3.9 kB)\n",
      "  Preparing metadata (setup.py): started\n",
      "  Preparing metadata (setup.py): finished with status 'done'\n",
      "Collecting tensorboard<2.7,>=2.6.0\n",
      "  Downloading tensorboard-2.6.0-py3-none-any.whl (5.6 MB)\n",
      "Collecting protobuf>=3.9.2\n",
      "  Downloading protobuf-3.19.6-cp36-cp36m-win_amd64.whl (897 kB)\n",
      "Collecting flatbuffers~=1.12.0\n",
      "  Downloading flatbuffers-1.12-py2.py3-none-any.whl (15 kB)\n",
      "Collecting tensorflow-estimator<2.7,>=2.6.0\n",
      "  Downloading tensorflow_estimator-2.6.0-py2.py3-none-any.whl (462 kB)\n",
      "Collecting astunparse~=1.6.3\n",
      "  Downloading astunparse-1.6.3-py2.py3-none-any.whl (12 kB)\n",
      "Collecting cached-property\n",
      "  Downloading cached_property-1.5.2-py2.py3-none-any.whl (7.6 kB)\n",
      "Collecting setuptools>=41.0.0\n",
      "  Downloading setuptools-59.6.0-py3-none-any.whl (952 kB)\n",
      "Requirement already satisfied: requests<3,>=2.21.0 in c:\\program files\\python36\\lib\\site-packages (from tensorboard<2.7,>=2.6.0->tensorflow) (2.27.1)\n",
      "Collecting google-auth-oauthlib<0.5,>=0.4.1\n",
      "  Downloading google_auth_oauthlib-0.4.6-py2.py3-none-any.whl (18 kB)\n",
      "Collecting tensorboard-data-server<0.7.0,>=0.6.0\n",
      "  Downloading tensorboard_data_server-0.6.1-py3-none-any.whl (2.4 kB)\n",
      "Requirement already satisfied: werkzeug>=0.11.15 in c:\\program files\\python36\\lib\\site-packages (from tensorboard<2.7,>=2.6.0->tensorflow) (2.0.3)\n",
      "Collecting markdown>=2.6.8\n",
      "  Downloading Markdown-3.3.7-py3-none-any.whl (97 kB)\n",
      "Collecting tensorboard-plugin-wit>=1.6.0\n",
      "  Downloading tensorboard_plugin_wit-1.8.1-py3-none-any.whl (781 kB)\n",
      "Collecting google-auth<2,>=1.6.3\n",
      "  Downloading google_auth-1.35.0-py2.py3-none-any.whl (152 kB)\n",
      "Collecting cachetools<5.0,>=2.0.0\n",
      "  Downloading cachetools-4.2.4-py3-none-any.whl (10 kB)\n",
      "Collecting pyasn1-modules>=0.2.1\n",
      "  Downloading pyasn1_modules-0.3.0-py2.py3-none-any.whl (181 kB)\n",
      "Collecting rsa<5,>=3.1.4\n",
      "  Downloading rsa-4.9-py3-none-any.whl (34 kB)\n",
      "Collecting requests-oauthlib>=0.7.0\n",
      "  Downloading requests_oauthlib-2.0.0-py2.py3-none-any.whl (24 kB)\n",
      "Requirement already satisfied: importlib-metadata>=4.4 in c:\\program files\\python36\\lib\\site-packages (from markdown>=2.6.8->tensorboard<2.7,>=2.6.0->tensorflow) (4.8.3)\n",
      "Requirement already satisfied: certifi>=2017.4.17 in c:\\program files\\python36\\lib\\site-packages (from requests<3,>=2.21.0->tensorboard<2.7,>=2.6.0->tensorflow) (2022.6.15)\n",
      "Requirement already satisfied: idna<4,>=2.5 in c:\\program files\\python36\\lib\\site-packages (from requests<3,>=2.21.0->tensorboard<2.7,>=2.6.0->tensorflow) (3.3)\n",
      "Requirement already satisfied: charset-normalizer~=2.0.0 in c:\\program files\\python36\\lib\\site-packages (from requests<3,>=2.21.0->tensorboard<2.7,>=2.6.0->tensorflow) (2.0.12)\n",
      "Requirement already satisfied: urllib3<1.27,>=1.21.1 in c:\\program files\\python36\\lib\\site-packages (from requests<3,>=2.21.0->tensorboard<2.7,>=2.6.0->tensorflow) (1.26.11)\n",
      "Requirement already satisfied: dataclasses in c:\\program files\\python36\\lib\\site-packages (from werkzeug>=0.11.15->tensorboard<2.7,>=2.6.0->tensorflow) (0.8)\n",
      "Requirement already satisfied: zipp>=0.5 in c:\\program files\\python36\\lib\\site-packages (from importlib-metadata>=4.4->markdown>=2.6.8->tensorboard<2.7,>=2.6.0->tensorflow) (3.6.0)\n",
      "Collecting pyasn1<0.6.0,>=0.4.6\n",
      "  Downloading pyasn1-0.5.1-py2.py3-none-any.whl (84 kB)\n",
      "Collecting oauthlib>=3.0.0\n",
      "  Downloading oauthlib-3.2.2-py3-none-any.whl (151 kB)\n",
      "Using legacy 'setup.py install' for clang, since package 'wheel' is not installed.\n",
      "Using legacy 'setup.py install' for termcolor, since package 'wheel' is not installed.\n",
      "Using legacy 'setup.py install' for wrapt, since package 'wheel' is not installed.\n",
      "Installing collected packages: pyasn1, typing-extensions, six, setuptools, rsa, pyasn1-modules, oauthlib, cachetools, requests-oauthlib, google-auth, wheel, tensorboard-plugin-wit, tensorboard-data-server, protobuf, markdown, grpcio, google-auth-oauthlib, cached-property, absl-py, wrapt, termcolor, tensorflow-estimator, tensorboard, opt-einsum, keras-preprocessing, keras, h5py, google-pasta, gast, flatbuffers, clang, astunparse, tensorflow\n",
      "  Attempting uninstall: wrapt\n",
      "    Found existing installation: wrapt 1.16.0\n",
      "    Uninstalling wrapt-1.16.0:\n",
      "      Successfully uninstalled wrapt-1.16.0\n",
      "    Running setup.py install for wrapt: started\n",
      "    Running setup.py install for wrapt: finished with status 'done'\n",
      "    Running setup.py install for termcolor: started\n",
      "    Running setup.py install for termcolor: finished with status 'done'\n",
      "    Running setup.py install for clang: started\n",
      "    Running setup.py install for clang: finished with status 'done'\n",
      "Successfully installed absl-py-0.15.0 astunparse-1.6.3 cached-property-1.5.2 cachetools-4.2.4 clang-5.0 flatbuffers-1.12 gast-0.4.0 google-auth-1.35.0 google-auth-oauthlib-0.4.6 google-pasta-0.2.0 grpcio-1.48.2 h5py-3.1.0 keras-2.6.0 keras-preprocessing-1.1.2 markdown-3.3.7 oauthlib-3.2.2 opt-einsum-3.3.0 protobuf-3.19.6 pyasn1-0.5.1 pyasn1-modules-0.3.0 requests-oauthlib-2.0.0 rsa-4.9 setuptools-59.6.0 six-1.15.0 tensorboard-2.6.0 tensorboard-data-server-0.6.1 tensorboard-plugin-wit-1.8.1 tensorflow-2.6.2 tensorflow-estimator-2.6.0 termcolor-1.1.0 typing-extensions-3.7.4.3 wheel-0.37.1 wrapt-1.12.1\n"
     ]
    },
    {
     "name": "stderr",
     "output_type": "stream",
     "text": [
      "WARNING: Retrying (Retry(total=4, connect=None, read=None, redirect=None, status=None)) after connection broken by 'ReadTimeoutError(\"HTTPSConnectionPool(host='pypi.org', port=443): Read timed out. (read timeout=15)\",)': /simple/h5py/\n"
     ]
    }
   ],
   "source": [
    "!pip install tensorflow"
   ]
  },
  {
   "cell_type": "code",
   "execution_count": 58,
   "metadata": {},
   "outputs": [
    {
     "data": {
      "text/plain": [
       "(63, 66)"
      ]
     },
     "execution_count": 58,
     "metadata": {},
     "output_type": "execute_result"
    }
   ],
   "source": [
    "X_train.shape"
   ]
  },
  {
   "cell_type": "code",
   "execution_count": 65,
   "metadata": {},
   "outputs": [
    {
     "name": "stdout",
     "output_type": "stream",
     "text": [
      "Epoch 1/100\n",
      "2/2 [==============================] - 0s 71ms/step - loss: 28.8921 - accuracy: 0.2063 - val_loss: 17.0570 - val_accuracy: 0.2381\n",
      "Epoch 2/100\n",
      "2/2 [==============================] - 0s 9ms/step - loss: 23.1851 - accuracy: 0.1746 - val_loss: 15.0833 - val_accuracy: 0.2857\n",
      "Epoch 3/100\n",
      "2/2 [==============================] - 0s 0s/step - loss: 21.3253 - accuracy: 0.2063 - val_loss: 13.5566 - val_accuracy: 0.3333\n",
      "Epoch 4/100\n",
      "2/2 [==============================] - 0s 4ms/step - loss: 22.2822 - accuracy: 0.1429 - val_loss: 12.1419 - val_accuracy: 0.3333\n",
      "Epoch 5/100\n",
      "2/2 [==============================] - 0s 14ms/step - loss: 18.8745 - accuracy: 0.1429 - val_loss: 11.0054 - val_accuracy: 0.2857\n",
      "Epoch 6/100\n",
      "2/2 [==============================] - 0s 18ms/step - loss: 18.5683 - accuracy: 0.0952 - val_loss: 10.0968 - val_accuracy: 0.2857\n",
      "Epoch 7/100\n",
      "2/2 [==============================] - 0s 0s/step - loss: 16.5111 - accuracy: 0.1746 - val_loss: 9.3396 - val_accuracy: 0.2857\n",
      "Epoch 8/100\n",
      "2/2 [==============================] - 0s 2ms/step - loss: 16.9724 - accuracy: 0.0952 - val_loss: 8.8745 - val_accuracy: 0.3333\n",
      "Epoch 9/100\n",
      "2/2 [==============================] - 0s 17ms/step - loss: 12.4150 - accuracy: 0.1905 - val_loss: 8.3727 - val_accuracy: 0.3810\n",
      "Epoch 10/100\n",
      "2/2 [==============================] - 0s 16ms/step - loss: 13.2376 - accuracy: 0.1429 - val_loss: 7.8720 - val_accuracy: 0.3810\n",
      "Epoch 11/100\n",
      "2/2 [==============================] - 0s 16ms/step - loss: 11.6173 - accuracy: 0.1905 - val_loss: 7.4281 - val_accuracy: 0.4286\n",
      "Epoch 12/100\n",
      "2/2 [==============================] - 0s 17ms/step - loss: 12.5736 - accuracy: 0.1429 - val_loss: 7.0586 - val_accuracy: 0.4286\n",
      "Epoch 13/100\n",
      "2/2 [==============================] - 0s 0s/step - loss: 10.9815 - accuracy: 0.2222 - val_loss: 6.8148 - val_accuracy: 0.4286\n",
      "Epoch 14/100\n",
      "2/2 [==============================] - 0s 2ms/step - loss: 10.3268 - accuracy: 0.1429 - val_loss: 6.7490 - val_accuracy: 0.3810\n",
      "Epoch 15/100\n",
      "2/2 [==============================] - 0s 17ms/step - loss: 10.6451 - accuracy: 0.1587 - val_loss: 6.6320 - val_accuracy: 0.3810\n",
      "Epoch 16/100\n",
      "2/2 [==============================] - 0s 16ms/step - loss: 10.4139 - accuracy: 0.2381 - val_loss: 6.4924 - val_accuracy: 0.3810\n",
      "Epoch 17/100\n",
      "2/2 [==============================] - 0s 21ms/step - loss: 9.9324 - accuracy: 0.2222 - val_loss: 6.2938 - val_accuracy: 0.4286\n",
      "Epoch 18/100\n",
      "2/2 [==============================] - 0s 14ms/step - loss: 8.4689 - accuracy: 0.2857 - val_loss: 6.0631 - val_accuracy: 0.4286\n",
      "Epoch 19/100\n",
      "2/2 [==============================] - 0s 12ms/step - loss: 7.7746 - accuracy: 0.2222 - val_loss: 5.7650 - val_accuracy: 0.3810\n",
      "Epoch 20/100\n",
      "2/2 [==============================] - 0s 19ms/step - loss: 7.4692 - accuracy: 0.3016 - val_loss: 5.4529 - val_accuracy: 0.3810\n",
      "Epoch 21/100\n",
      "2/2 [==============================] - 0s 12ms/step - loss: 6.8687 - accuracy: 0.2857 - val_loss: 5.0829 - val_accuracy: 0.3810\n",
      "Epoch 22/100\n",
      "2/2 [==============================] - 0s 1ms/step - loss: 8.2706 - accuracy: 0.1905 - val_loss: 4.7611 - val_accuracy: 0.3810\n",
      "Epoch 23/100\n",
      "2/2 [==============================] - 0s 2ms/step - loss: 8.4470 - accuracy: 0.1270 - val_loss: 4.4848 - val_accuracy: 0.3810\n",
      "Epoch 24/100\n",
      "2/2 [==============================] - 0s 19ms/step - loss: 6.7669 - accuracy: 0.2698 - val_loss: 4.2885 - val_accuracy: 0.3810\n",
      "Epoch 25/100\n",
      "2/2 [==============================] - 0s 14ms/step - loss: 6.1984 - accuracy: 0.3651 - val_loss: 4.1086 - val_accuracy: 0.3810\n",
      "Epoch 26/100\n",
      "2/2 [==============================] - 0s 17ms/step - loss: 5.6032 - accuracy: 0.3333 - val_loss: 3.8324 - val_accuracy: 0.3810\n",
      "Epoch 27/100\n",
      "2/2 [==============================] - 0s 19ms/step - loss: 6.7600 - accuracy: 0.2222 - val_loss: 3.5717 - val_accuracy: 0.3810\n",
      "Epoch 28/100\n",
      "2/2 [==============================] - 0s 13ms/step - loss: 6.8040 - accuracy: 0.2381 - val_loss: 3.3609 - val_accuracy: 0.3810\n",
      "Epoch 29/100\n",
      "2/2 [==============================] - 0s 0s/step - loss: 7.7351 - accuracy: 0.2063 - val_loss: 3.2033 - val_accuracy: 0.3810\n",
      "Epoch 30/100\n",
      "2/2 [==============================] - 0s 2ms/step - loss: 5.7860 - accuracy: 0.3175 - val_loss: 3.1325 - val_accuracy: 0.3810\n",
      "Epoch 31/100\n",
      "2/2 [==============================] - 0s 19ms/step - loss: 5.5639 - accuracy: 0.3810 - val_loss: 3.1017 - val_accuracy: 0.3810\n",
      "Epoch 32/100\n",
      "2/2 [==============================] - 0s 14ms/step - loss: 7.1991 - accuracy: 0.1905 - val_loss: 3.0950 - val_accuracy: 0.3810\n",
      "Epoch 33/100\n",
      "2/2 [==============================] - 0s 16ms/step - loss: 5.2027 - accuracy: 0.2381 - val_loss: 3.1090 - val_accuracy: 0.3810\n",
      "Epoch 34/100\n",
      "2/2 [==============================] - 0s 16ms/step - loss: 5.6380 - accuracy: 0.1587 - val_loss: 3.0616 - val_accuracy: 0.3333\n",
      "Epoch 35/100\n",
      "2/2 [==============================] - 0s 0s/step - loss: 5.2291 - accuracy: 0.2222 - val_loss: 2.9530 - val_accuracy: 0.3333\n",
      "Epoch 36/100\n",
      "2/2 [==============================] - 0s 5ms/step - loss: 3.9162 - accuracy: 0.3810 - val_loss: 2.8337 - val_accuracy: 0.3333\n",
      "Epoch 37/100\n",
      "2/2 [==============================] - 0s 5ms/step - loss: 4.8012 - accuracy: 0.2222 - val_loss: 2.6978 - val_accuracy: 0.3810\n",
      "Epoch 38/100\n",
      "2/2 [==============================] - 0s 16ms/step - loss: 4.1359 - accuracy: 0.3492 - val_loss: 2.5789 - val_accuracy: 0.3810\n",
      "Epoch 39/100\n",
      "2/2 [==============================] - 0s 16ms/step - loss: 5.1011 - accuracy: 0.2381 - val_loss: 2.4391 - val_accuracy: 0.4286\n",
      "Epoch 40/100\n",
      "2/2 [==============================] - 0s 17ms/step - loss: 3.9810 - accuracy: 0.3651 - val_loss: 2.2988 - val_accuracy: 0.4286\n",
      "Epoch 41/100\n",
      "2/2 [==============================] - 0s 13ms/step - loss: 4.6581 - accuracy: 0.3333 - val_loss: 2.1915 - val_accuracy: 0.4762\n",
      "Epoch 42/100\n",
      "2/2 [==============================] - 0s 926us/step - loss: 4.6217 - accuracy: 0.2540 - val_loss: 2.1113 - val_accuracy: 0.5238\n",
      "Epoch 43/100\n",
      "2/2 [==============================] - 0s 6ms/step - loss: 3.9702 - accuracy: 0.3333 - val_loss: 2.0535 - val_accuracy: 0.5238\n",
      "Epoch 44/100\n",
      "2/2 [==============================] - 0s 16ms/step - loss: 3.8258 - accuracy: 0.3175 - val_loss: 2.0291 - val_accuracy: 0.5238\n",
      "Epoch 45/100\n",
      "2/2 [==============================] - 0s 16ms/step - loss: 3.9832 - accuracy: 0.2381 - val_loss: 2.0091 - val_accuracy: 0.5238\n",
      "Epoch 46/100\n",
      "2/2 [==============================] - 0s 17ms/step - loss: 4.2555 - accuracy: 0.3492 - val_loss: 2.0151 - val_accuracy: 0.5238\n",
      "Epoch 47/100\n",
      "2/2 [==============================] - 0s 14ms/step - loss: 4.1943 - accuracy: 0.2540 - val_loss: 2.0236 - val_accuracy: 0.5238\n",
      "Epoch 48/100\n",
      "2/2 [==============================] - 0s 0s/step - loss: 4.6351 - accuracy: 0.2857 - val_loss: 2.0641 - val_accuracy: 0.5238\n",
      "Epoch 49/100\n",
      "2/2 [==============================] - 0s 4ms/step - loss: 3.7442 - accuracy: 0.2698 - val_loss: 2.1342 - val_accuracy: 0.5238\n",
      "Epoch 50/100\n",
      "2/2 [==============================] - 0s 17ms/step - loss: 4.0368 - accuracy: 0.2857 - val_loss: 2.2081 - val_accuracy: 0.4762\n",
      "Epoch 51/100\n",
      "2/2 [==============================] - 0s 17ms/step - loss: 4.1233 - accuracy: 0.2857 - val_loss: 2.2392 - val_accuracy: 0.4762\n",
      "Epoch 52/100\n",
      "2/2 [==============================] - 0s 16ms/step - loss: 4.0311 - accuracy: 0.3175 - val_loss: 2.2304 - val_accuracy: 0.5238\n",
      "Epoch 53/100\n",
      "2/2 [==============================] - 0s 13ms/step - loss: 3.4191 - accuracy: 0.3016 - val_loss: 2.2063 - val_accuracy: 0.5238\n",
      "Epoch 54/100\n",
      "2/2 [==============================] - 0s 842us/step - loss: 3.4845 - accuracy: 0.3810 - val_loss: 2.1432 - val_accuracy: 0.5238\n",
      "Epoch 55/100\n",
      "2/2 [==============================] - 0s 18ms/step - loss: 2.7699 - accuracy: 0.4286 - val_loss: 2.1010 - val_accuracy: 0.5238\n",
      "Epoch 56/100\n",
      "2/2 [==============================] - 0s 22ms/step - loss: 3.0793 - accuracy: 0.2698 - val_loss: 2.1114 - val_accuracy: 0.5238\n",
      "Epoch 57/100\n",
      "2/2 [==============================] - 0s 7ms/step - loss: 3.3521 - accuracy: 0.3492 - val_loss: 2.1317 - val_accuracy: 0.5238\n",
      "Epoch 58/100\n",
      "2/2 [==============================] - 0s 38ms/step - loss: 3.4730 - accuracy: 0.3651 - val_loss: 2.1294 - val_accuracy: 0.5238\n",
      "Epoch 59/100\n",
      "2/2 [==============================] - 0s 6ms/step - loss: 3.3300 - accuracy: 0.2857 - val_loss: 2.0793 - val_accuracy: 0.5238\n",
      "Epoch 60/100\n",
      "2/2 [==============================] - 0s 17ms/step - loss: 2.8886 - accuracy: 0.2698 - val_loss: 2.0142 - val_accuracy: 0.5238\n",
      "Epoch 61/100\n",
      "2/2 [==============================] - 0s 16ms/step - loss: 3.3966 - accuracy: 0.3016 - val_loss: 1.9535 - val_accuracy: 0.5238\n",
      "Epoch 62/100\n",
      "2/2 [==============================] - 0s 16ms/step - loss: 2.6780 - accuracy: 0.3810 - val_loss: 1.9113 - val_accuracy: 0.5238\n",
      "Epoch 63/100\n",
      "2/2 [==============================] - 0s 16ms/step - loss: 2.8206 - accuracy: 0.3175 - val_loss: 1.8787 - val_accuracy: 0.5238\n",
      "Epoch 64/100\n",
      "2/2 [==============================] - 0s 16ms/step - loss: 3.0635 - accuracy: 0.3016 - val_loss: 1.8495 - val_accuracy: 0.5238\n",
      "Epoch 65/100\n",
      "2/2 [==============================] - 0s 16ms/step - loss: 3.1424 - accuracy: 0.2222 - val_loss: 1.8362 - val_accuracy: 0.4762\n",
      "Epoch 66/100\n",
      "2/2 [==============================] - 0s 0s/step - loss: 3.2679 - accuracy: 0.3968 - val_loss: 1.8299 - val_accuracy: 0.4762\n",
      "Epoch 67/100\n",
      "2/2 [==============================] - 0s 0s/step - loss: 2.6335 - accuracy: 0.3968 - val_loss: 1.8414 - val_accuracy: 0.5238\n",
      "Epoch 68/100\n",
      "2/2 [==============================] - 0s 25ms/step - loss: 2.9271 - accuracy: 0.4127 - val_loss: 1.8589 - val_accuracy: 0.5238\n",
      "Epoch 69/100\n",
      "2/2 [==============================] - 0s 0s/step - loss: 2.3928 - accuracy: 0.3333 - val_loss: 1.8625 - val_accuracy: 0.5238\n",
      "Epoch 70/100\n",
      "2/2 [==============================] - 0s 14ms/step - loss: 2.5719 - accuracy: 0.3333 - val_loss: 1.8538 - val_accuracy: 0.5714\n",
      "Epoch 71/100\n",
      "2/2 [==============================] - 0s 2ms/step - loss: 2.6441 - accuracy: 0.3651 - val_loss: 1.8540 - val_accuracy: 0.5714\n",
      "Epoch 72/100\n",
      "2/2 [==============================] - 0s 15ms/step - loss: 3.1220 - accuracy: 0.3016 - val_loss: 1.8604 - val_accuracy: 0.5714\n",
      "Epoch 73/100\n",
      "2/2 [==============================] - 0s 16ms/step - loss: 2.3826 - accuracy: 0.4127 - val_loss: 1.8848 - val_accuracy: 0.5238\n",
      "Epoch 74/100\n",
      "2/2 [==============================] - 0s 16ms/step - loss: 2.3818 - accuracy: 0.3175 - val_loss: 1.8841 - val_accuracy: 0.5238\n",
      "Epoch 75/100\n",
      "2/2 [==============================] - 0s 0s/step - loss: 2.6524 - accuracy: 0.3492 - val_loss: 1.8960 - val_accuracy: 0.5238\n",
      "Epoch 76/100\n",
      "2/2 [==============================] - 0s 0s/step - loss: 2.1224 - accuracy: 0.4603 - val_loss: 1.9089 - val_accuracy: 0.5238\n",
      "Epoch 77/100\n",
      "2/2 [==============================] - 0s 16ms/step - loss: 2.1416 - accuracy: 0.3810 - val_loss: 1.9130 - val_accuracy: 0.5238\n",
      "Epoch 78/100\n",
      "2/2 [==============================] - 0s 16ms/step - loss: 2.1504 - accuracy: 0.4127 - val_loss: 1.8988 - val_accuracy: 0.5238\n",
      "Epoch 79/100\n",
      "2/2 [==============================] - 0s 16ms/step - loss: 1.8708 - accuracy: 0.3968 - val_loss: 1.8756 - val_accuracy: 0.5238\n",
      "Epoch 80/100\n",
      "2/2 [==============================] - 0s 0s/step - loss: 2.2114 - accuracy: 0.3492 - val_loss: 1.8687 - val_accuracy: 0.5238\n",
      "Epoch 81/100\n",
      "2/2 [==============================] - 0s 0s/step - loss: 2.2244 - accuracy: 0.4921 - val_loss: 1.8654 - val_accuracy: 0.5238\n",
      "Epoch 82/100\n",
      "2/2 [==============================] - 0s 0s/step - loss: 2.4105 - accuracy: 0.3968 - val_loss: 1.8670 - val_accuracy: 0.4762\n",
      "Epoch 83/100\n",
      "2/2 [==============================] - 0s 16ms/step - loss: 2.1589 - accuracy: 0.3651 - val_loss: 1.8603 - val_accuracy: 0.4286\n",
      "Epoch 84/100\n",
      "2/2 [==============================] - 0s 16ms/step - loss: 1.6990 - accuracy: 0.5238 - val_loss: 1.8332 - val_accuracy: 0.4286\n",
      "Epoch 85/100\n",
      "2/2 [==============================] - 0s 16ms/step - loss: 2.3809 - accuracy: 0.3651 - val_loss: 1.8207 - val_accuracy: 0.4286\n",
      "Epoch 86/100\n",
      "2/2 [==============================] - 0s 0s/step - loss: 2.3262 - accuracy: 0.4762 - val_loss: 1.8098 - val_accuracy: 0.4286\n",
      "Epoch 87/100\n",
      "2/2 [==============================] - 0s 0s/step - loss: 2.0913 - accuracy: 0.4286 - val_loss: 1.8042 - val_accuracy: 0.4286\n",
      "Epoch 88/100\n",
      "2/2 [==============================] - 0s 16ms/step - loss: 1.8374 - accuracy: 0.4921 - val_loss: 1.8008 - val_accuracy: 0.4286\n",
      "Epoch 89/100\n",
      "2/2 [==============================] - 0s 16ms/step - loss: 1.9039 - accuracy: 0.3492 - val_loss: 1.8013 - val_accuracy: 0.4286\n",
      "Epoch 90/100\n",
      "2/2 [==============================] - 0s 14ms/step - loss: 1.8895 - accuracy: 0.3968 - val_loss: 1.7995 - val_accuracy: 0.4286\n",
      "Epoch 91/100\n",
      "2/2 [==============================] - 0s 0s/step - loss: 1.8542 - accuracy: 0.4444 - val_loss: 1.7886 - val_accuracy: 0.4286\n",
      "Epoch 92/100\n",
      "2/2 [==============================] - 0s 0s/step - loss: 1.8788 - accuracy: 0.3651 - val_loss: 1.7751 - val_accuracy: 0.4762\n",
      "Epoch 93/100\n",
      "2/2 [==============================] - 0s 16ms/step - loss: 1.9631 - accuracy: 0.4444 - val_loss: 1.7655 - val_accuracy: 0.4762\n",
      "Epoch 94/100\n",
      "2/2 [==============================] - 0s 16ms/step - loss: 1.8373 - accuracy: 0.5397 - val_loss: 1.7729 - val_accuracy: 0.4762\n",
      "Epoch 95/100\n",
      "2/2 [==============================] - 0s 16ms/step - loss: 1.9549 - accuracy: 0.3810 - val_loss: 1.7808 - val_accuracy: 0.4762\n",
      "Epoch 96/100\n",
      "2/2 [==============================] - 0s 16ms/step - loss: 1.7191 - accuracy: 0.4921 - val_loss: 1.7879 - val_accuracy: 0.4762\n",
      "Epoch 97/100\n",
      "2/2 [==============================] - 0s 0s/step - loss: 2.0702 - accuracy: 0.4444 - val_loss: 1.8068 - val_accuracy: 0.4762\n",
      "Epoch 98/100\n",
      "2/2 [==============================] - 0s 0s/step - loss: 1.8840 - accuracy: 0.3333 - val_loss: 1.8169 - val_accuracy: 0.4762\n",
      "Epoch 99/100\n",
      "2/2 [==============================] - 0s 23ms/step - loss: 1.5962 - accuracy: 0.4921 - val_loss: 1.8233 - val_accuracy: 0.4762\n",
      "Epoch 100/100\n",
      "2/2 [==============================] - 0s 0s/step - loss: 1.8598 - accuracy: 0.3333 - val_loss: 1.8195 - val_accuracy: 0.4762\n"
     ]
    }
   ],
   "source": [
    "import tensorflow as tf\n",
    "from tensorflow.keras.models import Sequential\n",
    "from tensorflow.keras.layers import Dense, Dropout, Input\n",
    "from tensorflow.keras.optimizers import Adam\n",
    "\n",
    "n_n_model = Sequential([\n",
    "    # Dropout(0.2, input_shape=(X_train.shape[1], )),\n",
    "    # Dense(32, activation='relu', input_shape=(X_train.shape[1],)),\n",
    "    Input(shape=(X_train.shape[1],)),\n",
    "    Dense(32, activation='relu'),\n",
    "    Dropout(0.2),\n",
    "    Dense(32, activation='relu'),\n",
    "    Dense(10, activation='softmax')\n",
    "])\n",
    "\n",
    "n_n_model.compile(optimizer='adam', loss='sparse_categorical_crossentropy', metrics=['accuracy'])\n",
    "\n",
    "history = n_n_model.fit(X_train, Y_train, epochs=100, validation_data=(X_val, Y_val))"
   ]
  },
  {
   "cell_type": "code",
   "execution_count": 71,
   "metadata": {},
   "outputs": [],
   "source": [
    "# guardar el modelo como h5 \n",
    "n_n_model.save('model.h5')"
   ]
  },
  {
   "cell_type": "code",
   "execution_count": 72,
   "metadata": {},
   "outputs": [],
   "source": [
    "# leer modelo h5\n",
    "from tensorflow.keras.models import load_model\n",
    "n_n_model = load_model('model.h5')"
   ]
  },
  {
   "cell_type": "code",
   "execution_count": 66,
   "metadata": {},
   "outputs": [
    {
     "data": {
      "text/plain": [
       "(21,)"
      ]
     },
     "execution_count": 66,
     "metadata": {},
     "output_type": "execute_result"
    }
   ],
   "source": [
    "X_train.shape[1],"
   ]
  },
  {
   "cell_type": "code",
   "execution_count": 67,
   "metadata": {},
   "outputs": [
    {
     "data": {
      "text/plain": [
       "[<matplotlib.lines.Line2D at 0x245b6067cf8>]"
      ]
     },
     "execution_count": 67,
     "metadata": {},
     "output_type": "execute_result"
    },
    {
     "data": {
      "image/png": "[encoded data removed]",
      "text/plain": [
       "<Figure size 1080x360 with 2 Axes>"
      ]
     },
     "metadata": {
      "needs_background": "light"
     },
     "output_type": "display_data"
    }
   ],
   "source": [
    "fig, axs = plt.subplots(1, 2, figsize=(15, 5))\n",
    "\n",
    "axs[0].plot(history.history['loss'], label='loss')\n",
    "axs[1].plot(history.history['accuracy'], label='accuracy')\n",
    "axs[0].plot(history.history['val_loss'], label='val_loss')\n",
    "axs[1].plot(history.history['val_accuracy'], label='val_accuracy')"
   ]
  },
  {
   "cell_type": "code",
   "execution_count": 68,
   "metadata": {},
   "outputs": [
    {
     "name": "stdout",
     "output_type": "stream",
     "text": [
      "1/1 [==============================] - 0s 12ms/step - loss: 1.8353 - accuracy: 0.4762\n"
     ]
    },
    {
     "data": {
      "text/plain": [
       "[1.835260272026062, 0.4761904776096344]"
      ]
     },
     "execution_count": 68,
     "metadata": {},
     "output_type": "execute_result"
    }
   ],
   "source": [
    "# model.get_params()\n",
    "n_n_model.evaluate(X_test, Y_test)"
   ]
  },
  {
   "cell_type": "code",
   "execution_count": 69,
   "metadata": {},
   "outputs": [
    {
     "data": {
      "text/plain": [
       "(1, 21)"
      ]
     },
     "execution_count": 69,
     "metadata": {},
     "output_type": "execute_result"
    }
   ],
   "source": [
    "data = pd.DataFrame(\n",
    "        {\n",
    "            \"O_score\": [1],\n",
    "            \"C_score\": [2],\n",
    "            \"E_score\": [3],\n",
    "            \"A_score\": [4],\n",
    "            \"N_score\": [5],\n",
    "        }\n",
    "    ).values\n",
    "\n",
    "poly = PolynomialFeatures(2)\n",
    "data = poly.fit_transform(data)\n",
    "\n",
    "data.shape"
   ]
  },
  {
   "cell_type": "code",
   "execution_count": 70,
   "metadata": {},
   "outputs": [
    {
     "data": {
      "text/plain": [
       "array([[0.03438119, 0.08762689, 0.00141022, 0.30836236, 0.0205748 ,\n",
       "        0.07192818, 0.01472902, 0.21811068, 0.14248744, 0.10038918]],\n",
       "      dtype=float32)"
      ]
     },
     "execution_count": 70,
     "metadata": {},
     "output_type": "execute_result"
    }
   ],
   "source": [
    "n_n_model.predict(data)"
   ]
  },
  {
   "cell_type": "code",
   "execution_count": null,
   "metadata": {},
   "outputs": [],
   "source": []
  }
 ],
 "metadata": {
  "kernelspec": {
   "display_name": "Python 3",
   "language": "python",
   "name": "python3"
  },
  "language_info": {
   "codemirror_mode": {
    "name": "ipython",
    "version": 3
   },
   "file_extension": ".py",
   "mimetype": "text/x-python",
   "name": "python",
   "nbconvert_exporter": "python",
   "pygments_lexer": "ipython3",
   "version": "3.6.5"
  }
 },
 "nbformat": 4,
 "nbformat_minor": 2
}
