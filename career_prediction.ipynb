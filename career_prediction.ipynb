{
 "cells": [
  {
   "cell_type": "markdown",
   "metadata": {},
   "source": [
    "https://drive.google.com/file/d/0B7XkCwpI5KDYNlNUTTlSS21pQmM/edit?resourcekey=0-wjGZdNAUop6WykTtMip30g"
   ]
  },
  {
   "cell_type": "code",
   "execution_count": null,
   "metadata": {},
   "outputs": [],
   "source": [
    "%pip install git+https://github.com/piskvorky/gensim.git@develop"
   ]
  },
  {
   "cell_type": "code",
   "execution_count": null,
   "metadata": {},
   "outputs": [],
   "source": [
    "!pip install pandas --user\n",
    "!pip install gensim --user\n",
    "!pip install scikit-learn --user\n",
    "pip3 install -U scikit-learn scipy matplotlib"
   ]
  },
  {
   "cell_type": "code",
   "execution_count": null,
   "metadata": {},
   "outputs": [],
   "source": [
    "!pip install scikit-learn --user"
   ]
  },
  {
   "cell_type": "code",
   "execution_count": null,
   "metadata": {},
   "outputs": [],
   "source": [
    "!pip install gensim==3.4.0\n",
    "!pip install smart_open==1.9.0"
   ]
  },
  {
   "cell_type": "code",
   "execution_count": null,
   "metadata": {},
   "outputs": [],
   "source": [
    "import pandas as pd\n",
    "\n",
    "from sklearn.preprocessing import LabelEncoder\n",
    "from sklearn.preprocessing import StandardScaler\n",
    "\n",
    "import warnings\n",
    "warnings.filterwarnings(action='ignore', category=UserWarning, module='gensim')\n",
    "\n",
    "import smart_open\n",
    "from gensim.models.keyedvectors import KeyedVectors\n",
    "\n",
    "import logging\n",
    "logging.basicConfig(format='%(asctime)s : %(levelname)s : %(message)s', level=logging.INFO)"
   ]
  },
  {
   "cell_type": "code",
   "execution_count": null,
   "metadata": {},
   "outputs": [],
   "source": [
    "path = 'GoogleNews-vectors-negative300.bin.gz'\n",
    "model = KeyedVectors.load_word2vec_format(path, binary=True)"
   ]
  },
  {
   "cell_type": "code",
   "execution_count": null,
   "metadata": {},
   "outputs": [],
   "source": [
    "# Cargar el dataset\n",
    "df = pd.read_csv('career_prediction_dataset.csv')\n",
    "print(df)"
   ]
  },
  {
   "cell_type": "code",
   "execution_count": null,
   "metadata": {},
   "outputs": [],
   "source": [
    "categories = {\n",
    "    \"Healthcare and Medicine\": [\n",
    "        \"Nurse\", \"Physician\", \"Pharmacist\", \"Physical Therapist\", \n",
    "        \"Dental Hygienist\", \"Pediatric Nurse\", \"Chiropractor\", \n",
    "        \"Radiologic Technologist\", \"Speech Therapist\", \"Occupational Therapist\", \n",
    "        \"Rehabilitation Counselor\", \"Pediatrician\", \"Genetic Counselor\", \n",
    "        \"Forensic Psychologist\", \"Public Health Analyst\"\n",
    "    ],\n",
    "    \"Engineering and Technology\": [\n",
    "        \"Software Developer\", \"IT Support Specialist\", \"Biomedical Engineer\", \n",
    "        \"Data Analyst\", \"Industrial Engineer\", \"Mechanical Engineer\", \n",
    "        \"Environmental Engineer\", \"Electrical Engineer\", \"Aerospace Engineer\", \n",
    "        \"Mechanical Designer\", \"Robotics Engineer\", \"Civil Engineer\", \n",
    "        \"Electronics Design Engineer\", \"Web Developer\", \"Quality Control Inspector\", \n",
    "        \"Video Game Tester\", \"Game Developer\", \"IT Project Manager\", \"Database Analyst\", \"Software Quality Assurance Tester\", \"Database Administrator\"\n",
    "    ],\n",
    "    \"Science and Research\": [\n",
    "        \"Research Scientist\", \"Biologist\", \"Astronomer\", \"Environmental Scientist\", \n",
    "        \"Biotechnologist\", \"Zoologist\", \"Forensic Scientist\", \"Geologist\", \n",
    "        \"Wildlife Biologist\", \"Marine Biologist\", \"Biomedical Researcher\"\n",
    "    ],\n",
    "    \"Business and Finance\": [\n",
    "        \"Accountant\", \"Financial Analyst\", \"Financial Planner\", \"Financial Auditor\", \n",
    "        \"Financial Advisor\", \"Investment Banker\", \"Tax Accountant\", \"Insurance Underwriter\", \"Product Manager\"\n",
    "    ],\n",
    "    \"Marketing and Sales\": [\n",
    "        \"Salesperson\", \"Marketing Manager\", \"Marketing Coordinator\", \"Event Planner\", \n",
    "        \"Real Estate Agent\", \"Market Research Analyst\", \"Marketing Copywriter\", \n",
    "        \"Social Media Manager\", \"Advertising Executive\", \"Public Relations Specialist\", \n",
    "        \"Market Researcher\", \"Event Photographer\", \"Chef\", \"Marketing Analyst\"\n",
    "    ],\n",
    "    \"Human Resources and Administration\": [\n",
    "        \"Human Resources Manager\", \"HR Recruiter\", \"Administrative Officer\", \n",
    "        \"IT Project Manager\"\n",
    "    ],\n",
    "    \"Design and Creative Arts\": [\n",
    "        \"Graphic Designer\", \"Architect\", \"Artist\", \"Fashion Designer\", \n",
    "        \"Musician\", \"Interior Designer\", \"Film Director\", \"Fashion Stylist\", \"Technical Writer\"\n",
    "    ],\n",
    "    \"Education and Counseling\": [\n",
    "        \"Teacher\", \"Psychologist\", \"Elementary School Teacher\", \"Social Worker\", \n",
    "        \"Marriage Counselor\", \"Speech Pathologist\", \"Sports Coach\", \n",
    "        \"Rehabilitation Counselor\", \"Career Counselor\"\n",
    "    ],\n",
    "    \"Law and Public Safety\": [\n",
    "        \"Lawyer\", \"Police Detective\", \"Police Officer\", \"Human Rights Lawyer\", \n",
    "        \"Customs and Border Protection Officer\", \"Diplomat\", \"Foreign Service Officer\", \n",
    "        \"Tax Collector\", \"Air Traffic Controller\", \"Airline Pilot\", \"Journalist\"\n",
    "    ],\n",
    "    \"Urban Planning and Environment\": [\n",
    "        \"Urban Planner\", \"Construction Engineer\", \"Environmental Scientist\", \n",
    "        \"Environmental Engineer\", \"Forestry Technician\", \"Wildlife Conservationist\"\n",
    "    ]\n",
    "}\n",
    "\n",
    "\n",
    "inverse_categories = {v: k for k, values in categories.items() for v in values}\n",
    "\n",
    "df['Field'] = df['Career'].apply(lambda x: inverse_categories[x] if x in inverse_categories else 'Other Specialized Fields')"
   ]
  },
  {
   "cell_type": "code",
   "execution_count": null,
   "metadata": {},
   "outputs": [],
   "source": [
    "df['Field'].unique()"
   ]
  },
  {
   "cell_type": "code",
   "execution_count": null,
   "metadata": {},
   "outputs": [],
   "source": [
    "df['Field'].value_counts()"
   ]
  },
  {
   "cell_type": "code",
   "execution_count": null,
   "metadata": {},
   "outputs": [],
   "source": [
    "# Codificación de la columna 'Career'\n",
    "df['Career_encoded'] = LabelEncoder().fit_transform(df['Career'])\n",
    "df['Field_encoded'] = LabelEncoder().fit_transform(df['Field'])"
   ]
  },
  {
   "cell_type": "code",
   "execution_count": null,
   "metadata": {},
   "outputs": [],
   "source": [
    "df.corr()"
   ]
  },
  {
   "cell_type": "code",
   "execution_count": null,
   "metadata": {},
   "outputs": [],
   "source": [
    "field_counts = df['Field'].value_counts()\n",
    "sub_df = df[df['Field'].isin(field_counts[field_counts >= 7].index)]\n",
    "sub_df.corr()"
   ]
  },
  {
   "cell_type": "code",
   "execution_count": null,
   "metadata": {},
   "outputs": [],
   "source": [
    "sub_df"
   ]
  },
  {
   "cell_type": "code",
   "execution_count": null,
   "metadata": {},
   "outputs": [],
   "source": [
    "word = \"Physician\"\n",
    "\n",
    "result = model.most_similar(positive=[word])\n",
    "result"
   ]
  },
  {
   "cell_type": "code",
   "execution_count": null,
   "metadata": {},
   "outputs": [],
   "source": [
    "model.wv.get_vector(word)"
   ]
  },
  {
   "cell_type": "code",
   "execution_count": null,
   "metadata": {},
   "outputs": [],
   "source": [
    "from sklearn import tree\n",
    "from sklearn import svm\n",
    "\n",
    "X = df.drop(['Career', 'Field', 'Career_encoded', 'Field_encoded'], axis=1)\n",
    "Y = df['Field_encoded']\n",
    "\n",
    "train_X = X[:int(0.8*len(X))]\n",
    "train_Y = Y[:int(0.8*len(Y))]\n",
    "test_X = X[int(0.8*len(X)):]\n",
    "test_Y = Y[int(0.8*len(Y)):]\n",
    "\n",
    "# model = tree.DecisionTreeClassifier()\n",
    "model = svm.SVC()\n",
    "model = model.fit(train_X, train_Y)\n",
    "\n",
    "model.score(test_X, test_Y)\n"
   ]
  },
  {
   "cell_type": "code",
   "execution_count": null,
   "metadata": {},
   "outputs": [],
   "source": [
    "model.get_params()"
   ]
  }
 ],
 "metadata": {
  "kernelspec": {
   "display_name": "Python 3",
   "language": "python",
   "name": "python3"
  },
  "language_info": {
   "codemirror_mode": {
    "name": "ipython",
    "version": 3
   },
   "file_extension": ".py",
   "mimetype": "text/x-python",
   "name": "python",
   "nbconvert_exporter": "python",
   "pygments_lexer": "ipython3",
   "version": "3.6.5"
  }
 },
 "nbformat": 4,
 "nbformat_minor": 2
}
