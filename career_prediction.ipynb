{
 "cells": [
  {
   "cell_type": "code",
   "execution_count": null,
   "metadata": {},
   "outputs": [],
   "source": [
    "import pandas as pd\n",
    "from sklearn.preprocessing import LabelEncoder\n",
    "from sklearn.preprocessing import StandardScaler"
   ]
  },
  {
   "cell_type": "code",
   "execution_count": null,
   "metadata": {},
   "outputs": [],
   "source": [
    "# Cargar el dataset\n",
    "df = pd.read_csv('career_prediction_dataset.csv')\n",
    "\n",
    "print(df)"
   ]
  },
  {
   "cell_type": "code",
   "execution_count": null,
   "metadata": {},
   "outputs": [],
   "source": [
    "# Verificación de valores nulos\n",
    "print(df.isnull().sum())\n",
    "\n",
    "# Manejo de valores nulos (si existen)\n",
    "df = df.dropna()  # O usar df.fillna() para reemplazar valores nulos\n",
    "\n",
    "# Codificación de la columna 'Career'\n",
    "le = LabelEncoder()\n",
    "df['Career'] = le.fit_transform(df['Career'])\n",
    "\n",
    "# Normalización de los datos\n",
    "scaler = StandardScaler()\n",
    "df_scaled = pd.DataFrame(scaler.fit_transform(df.drop('Career', axis=1)), columns=df.columns[:-1])\n",
    "\n",
    "# Añadir la columna 'Career' de nuevo al dataframe escalado\n",
    "df_scaled['Career'] = df['Career']\n",
    "\n",
    "# Verificación de la normalización\n",
    "print(df_scaled.head())"
   ]
  }
 ],
 "metadata": {
  "kernelspec": {
   "display_name": "Python 3",
   "language": "python",
   "name": "python3"
  },
  "language_info": {
   "codemirror_mode": {
    "name": "ipython",
    "version": 3
   },
   "file_extension": ".py",
   "mimetype": "text/x-python",
   "name": "python",
   "nbconvert_exporter": "python",
   "pygments_lexer": "ipython3",
   "version": "3.10.0"
  }
 },
 "nbformat": 4,
 "nbformat_minor": 2
}
