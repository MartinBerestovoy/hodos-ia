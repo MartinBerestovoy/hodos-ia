{
 "cells": [
  {
   "cell_type": "markdown",
   "metadata": {},
   "source": [
    "https://drive.google.com/file/d/0B7XkCwpI5KDYNlNUTTlSS21pQmM/edit?resourcekey=0-wjGZdNAUop6WykTtMip30g"
   ]
  },
  {
   "cell_type": "code",
   "execution_count": null,
   "metadata": {},
   "outputs": [],
   "source": [
    "# !pip install pandas --user\n",
    "# !pip install gensim --user\n",
    "# !pip install scikit-learn --user\n",
    "# pip3 install -U scikit-learn scipy matplotlib\n",
    "# !pip install scikit-learn --user\n",
    "# !pip install gensim==3.4.0\n",
    "# !pip install smart_open==1.9.0\n",
    "# !pip install matplotlib"
   ]
  },
  {
   "cell_type": "code",
   "execution_count": null,
   "metadata": {},
   "outputs": [],
   "source": [
    "import pandas as pd\n",
    "import numpy as np\n",
    "import matplotlib.pyplot as plt\n",
    "\n",
    "from sklearn.preprocessing import LabelEncoder\n",
    "from sklearn.preprocessing import StandardScaler\n",
    "from sklearn.preprocessing import PolynomialFeatures\n",
    "\n",
    "import warnings\n",
    "warnings.filterwarnings(action='ignore', category=UserWarning, module='gensim')\n",
    "\n",
    "import smart_open\n",
    "from gensim.models.keyedvectors import KeyedVectors\n",
    "\n",
    "import logging\n",
    "logging.basicConfig(format='%(asctime)s : %(levelname)s : %(message)s', level=logging.INFO)\n",
    "\n",
    "from sklearn.metrics import classification_report"
   ]
  },
  {
   "cell_type": "code",
   "execution_count": null,
   "metadata": {},
   "outputs": [],
   "source": [
    "# path = 'GoogleNews-vectors-negative300.bin.gz'\n",
    "# model = KeyedVectors.load_word2vec_format(path, binary=True)"
   ]
  },
  {
   "cell_type": "code",
   "execution_count": null,
   "metadata": {},
   "outputs": [],
   "source": [
    "# Cargar el dataset\n",
    "df = pd.read_csv('career_prediction_dataset.csv')\n",
    "print(df)"
   ]
  },
  {
   "cell_type": "code",
   "execution_count": null,
   "metadata": {},
   "outputs": [],
   "source": [
    "categories = {\n",
    "    \"Healthcare and Medicine\": [\n",
    "        \"Nurse\", \"Physician\", \"Pharmacist\", \"Physical Therapist\", \n",
    "        \"Dental Hygienist\", \"Pediatric Nurse\", \"Chiropractor\", \n",
    "        \"Radiologic Technologist\", \"Speech Therapist\", \"Occupational Therapist\", \n",
    "        \"Rehabilitation Counselor\", \"Pediatrician\", \"Genetic Counselor\", \n",
    "        \"Forensic Psychologist\", \"Public Health Analyst\"\n",
    "    ],\n",
    "    \"Engineering and Technology\": [\n",
    "        \"Software Developer\", \"IT Support Specialist\", \"Biomedical Engineer\", \n",
    "        \"Data Analyst\", \"Industrial Engineer\", \"Mechanical Engineer\", \n",
    "        \"Environmental Engineer\", \"Electrical Engineer\", \"Aerospace Engineer\", \n",
    "        \"Mechanical Designer\", \"Robotics Engineer\", \"Civil Engineer\", \n",
    "        \"Electronics Design Engineer\", \"Web Developer\", \"Quality Control Inspector\", \n",
    "        \"Video Game Tester\", \"Game Developer\", \"IT Project Manager\", \"Database Analyst\", \"Software Quality Assurance Tester\", \"Database Administrator\"\n",
    "    ],\n",
    "    \"Science and Research\": [\n",
    "        \"Research Scientist\", \"Biologist\", \"Astronomer\", \"Environmental Scientist\", \n",
    "        \"Biotechnologist\", \"Zoologist\", \"Forensic Scientist\", \"Geologist\", \n",
    "        \"Wildlife Biologist\", \"Marine Biologist\", \"Biomedical Researcher\"\n",
    "    ],\n",
    "    \"Business and Finance\": [\n",
    "        \"Accountant\", \"Financial Analyst\", \"Financial Planner\", \"Financial Auditor\", \n",
    "        \"Financial Advisor\", \"Investment Banker\", \"Tax Accountant\", \"Insurance Underwriter\", \"Product Manager\"\n",
    "    ],\n",
    "    \"Marketing and Sales\": [\n",
    "        \"Salesperson\", \"Marketing Manager\", \"Marketing Coordinator\", \"Event Planner\", \n",
    "        \"Real Estate Agent\", \"Market Research Analyst\", \"Marketing Copywriter\", \n",
    "        \"Social Media Manager\", \"Advertising Executive\", \"Public Relations Specialist\", \n",
    "        \"Market Researcher\", \"Event Photographer\", \"Chef\", \"Marketing Analyst\"\n",
    "    ],\n",
    "    \"Human Resources and Administration\": [\n",
    "        \"Human Resources Manager\", \"HR Recruiter\", \"Administrative Officer\", \n",
    "        \"IT Project Manager\"\n",
    "    ],\n",
    "    \"Design and Creative Arts\": [\n",
    "        \"Graphic Designer\", \"Architect\", \"Artist\", \"Fashion Designer\", \n",
    "        \"Musician\", \"Interior Designer\", \"Film Director\", \"Fashion Stylist\", \"Technical Writer\"\n",
    "    ],\n",
    "    \"Education and Counseling\": [\n",
    "        \"Teacher\", \"Psychologist\", \"Elementary School Teacher\", \"Social Worker\", \n",
    "        \"Marriage Counselor\", \"Speech Pathologist\", \"Sports Coach\", \n",
    "        \"Rehabilitation Counselor\", \"Career Counselor\"\n",
    "    ],\n",
    "    \"Law and Public Safety\": [\n",
    "        \"Lawyer\", \"Police Detective\", \"Police Officer\", \"Human Rights Lawyer\", \n",
    "        \"Customs and Border Protection Officer\", \"Diplomat\", \"Foreign Service Officer\", \n",
    "        \"Tax Collector\", \"Air Traffic Controller\", \"Airline Pilot\", \"Journalist\"\n",
    "    ],\n",
    "    \"Urban Planning and Environment\": [\n",
    "        \"Urban Planner\", \"Construction Engineer\", \"Environmental Scientist\", \n",
    "        \"Environmental Engineer\", \"Forestry Technician\", \"Wildlife Conservationist\"\n",
    "    ]\n",
    "}\n",
    "\n",
    "\n",
    "inverse_categories = {v: k for k, values in categories.items() for v in values}\n",
    "\n",
    "df['Field'] = df['Career'].apply(lambda x: inverse_categories[x] if x in inverse_categories else 'Other Specialized Fields')"
   ]
  },
  {
   "cell_type": "code",
   "execution_count": null,
   "metadata": {},
   "outputs": [],
   "source": [
    "# Codificación de la columna 'Career'\n",
    "df['Career_encoded'] = LabelEncoder().fit_transform(df['Career'])\n",
    "df['Field_encoded'] = LabelEncoder().fit_transform(df['Field'])"
   ]
  },
  {
   "cell_type": "code",
   "execution_count": null,
   "metadata": {},
   "outputs": [],
   "source": [
    "field_counts = df['Field'].value_counts()\n",
    "sub_df = df[df['Field'].isin(field_counts[field_counts >= 7].index)]\n",
    "sub_df.corr()"
   ]
  },
  {
   "cell_type": "code",
   "execution_count": null,
   "metadata": {},
   "outputs": [],
   "source": [
    "# X = df.drop(['Career', 'Field', 'Career_encoded', 'Field_encoded'], axis=1)\n",
    "# Y = df['Field_encoded']\n",
    "\n",
    "# train_X = X[:int(0.8*len(X))]\n",
    "# train_Y = Y[:int(0.8*len(Y))]\n",
    "# test_X = X[int(0.8*len(X)):]\n",
    "# test_Y = Y[int(0.8*len(Y)):]"
   ]
  },
  {
   "cell_type": "code",
   "execution_count": null,
   "metadata": {},
   "outputs": [],
   "source": [
    "from sklearn.model_selection import train_test_split\n",
    "\n",
    "X = df.drop(['Career', 'Field', 'Career_encoded', 'Field_encoded'], axis=1)\n",
    "Y = df['Field_encoded']\n",
    "\n",
    "poly = PolynomialFeatures(2)\n",
    "X = poly.fit_transform(X)\n",
    "\n",
    "# Supongamos que X y Y son tus datos y etiquetas\n",
    "# Primero dividimos en entrenamiento y prueba (80% entrenamiento, 20% prueba)\n",
    "X_train, X_test, Y_train, Y_test = train_test_split(X, Y, test_size=0.2, random_state=42)\n",
    "\n",
    "# Ahora dividimos el conjunto de entrenamiento en entrenamiento y validación (80% entrenamiento, 20% validación)\n",
    "X_train, X_val, Y_train, Y_val = train_test_split(X_train, Y_train, test_size=0.25, random_state=42)  # 0.25 * 0.8 = 0.2"
   ]
  },
  {
   "cell_type": "code",
   "execution_count": null,
   "metadata": {},
   "outputs": [],
   "source": [
    "from sklearn.ensemble import RandomForestClassifier\n",
    "from sklearn.datasets import make_classification\n",
    "\n",
    "model = RandomForestClassifier()\n",
    "model.fit(X_train, Y_train)\n",
    "Y_pred = model.predict(X_test)\n",
    "\n",
    "print(classification_report(Y_test, Y_pred))"
   ]
  },
  {
   "cell_type": "code",
   "execution_count": null,
   "metadata": {},
   "outputs": [],
   "source": [
    "from sklearn.ensemble import RandomForestClassifier\n",
    "from sklearn.model_selection import RandomizedSearchCV\n",
    "from sklearn.metrics import accuracy_score\n",
    "import numpy as np\n",
    "\n",
    "# Define the parameter grid\n",
    "param_grid = {\n",
    "    'n_estimators': [10, 50, 100, 200, 500],\n",
    "    'max_depth': [None, 10, 20, 30, 40, 50],\n",
    "    'min_samples_split': [2, 5, 10],\n",
    "    'min_samples_leaf': [1, 2, 4],\n",
    "    'max_features': ['auto', 'sqrt', 'log2'],\n",
    "    'bootstrap': [True, False]\n",
    "}\n",
    "\n",
    "# Initialize RandomizedSearchCV\n",
    "random_search = RandomizedSearchCV(\n",
    "    estimator=model,\n",
    "    param_distributions=param_grid,\n",
    "    n_iter=100,  # Number of parameter settings sampled\n",
    "    cv=5,  # Number of folds in cross-validation\n",
    "    verbose=2,  # Controls the verbosity\n",
    "    random_state=42,  # For reproducibility\n",
    "    n_jobs=-1  # Number of jobs to run in parallel\n",
    ")\n",
    "\n",
    "# Fit RandomizedSearchCV to your data\n",
    "# Replace X_train and y_train with your training data\n",
    "random_search.fit(X_train, Y_train)\n",
    "\n",
    "# Get the best model\n",
    "best_model = random_search.best_estimator_\n",
    "\n",
    "# Predict on test data\n",
    "# Replace X_test with your test data\n",
    "y_pred = best_model.predict(X_test)\n",
    "\n",
    "# Evaluate the model\n",
    "accuracy = accuracy_score(Y_test, Y_pred)\n",
    "print(f'Best parameters: {random_search.best_params_}')\n",
    "print(f'Accuracy: {accuracy}')\n"
   ]
  },
  {
   "cell_type": "code",
   "execution_count": null,
   "metadata": {},
   "outputs": [],
   "source": [
    "# how to save my sklearn model?\n",
    "import joblib\n",
    "joblib.dump(model, 'model.pkl')"
   ]
  },
  {
   "cell_type": "code",
   "execution_count": null,
   "metadata": {},
   "outputs": [],
   "source": [
    "importances = model.feature_importances_\n",
    "\n",
    "# feature_names = [X.columns[i] for i in range(X.shape[1])]\n",
    "feature_names = [str(i) for i in range(X.shape[1])]\n",
    "\n",
    "forest_importances = pd.Series(importances, index=feature_names)\n",
    "std = np.std([tree.feature_importances_ for tree in model.estimators_], axis=0)\n",
    "fig, ax = plt.subplots(1,1, figsize=(10, 6))\n",
    "forest_importances.plot.bar(ax=ax)\n",
    "ax.set_title(\"Feature importances using MDI\")\n",
    "ax.set_ylabel(\"Mean decrease in impurity\")\n",
    "fig.tight_layout()"
   ]
  },
  {
   "cell_type": "code",
   "execution_count": null,
   "metadata": {},
   "outputs": [],
   "source": [
    "# model.get_params()"
   ]
  }
 ],
 "metadata": {
  "kernelspec": {
   "display_name": "Python 3",
   "language": "python",
   "name": "python3"
  },
  "language_info": {
   "codemirror_mode": {
    "name": "ipython",
    "version": 3
   },
   "file_extension": ".py",
   "mimetype": "text/x-python",
   "name": "python",
   "nbconvert_exporter": "python",
   "pygments_lexer": "ipython3",
   "version": "3.6.5"
  }
 },
 "nbformat": 4,
 "nbformat_minor": 2
}
